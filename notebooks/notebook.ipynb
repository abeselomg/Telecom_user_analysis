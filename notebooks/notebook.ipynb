{
 "cells": [
  {
   "cell_type": "markdown",
   "metadata": {},
   "source": [
    "# User Analytics in the Telecommunication Industry"
   ]
  },
  {
   "cell_type": "code",
   "execution_count": 1,
   "metadata": {},
   "outputs": [],
   "source": [
    "#Importing required packages.\n",
    "import pandas as pd\n",
    "import numpy as np\n",
    "import seaborn as sns\n",
    "import matplotlib.pyplot as plt\n",
    "import os\n",
    "%matplotlib inline"
   ]
  },
  {
   "cell_type": "code",
   "execution_count": 2,
   "metadata": {},
   "outputs": [],
   "source": [
    "teledf=pd.read_excel(\"../data/Week1_challenge_data_source.xlsx\")"
   ]
  },
  {
   "cell_type": "code",
   "execution_count": 3,
   "metadata": {},
   "outputs": [
    {
     "data": {
      "text/plain": [
       "(150001, 55)"
      ]
     },
     "execution_count": 3,
     "metadata": {},
     "output_type": "execute_result"
    }
   ],
   "source": [
    "teledf.shape"
   ]
  },
  {
   "cell_type": "code",
   "execution_count": 4,
   "metadata": {},
   "outputs": [
    {
     "name": "stdout",
     "output_type": "stream",
     "text": [
      "<class 'pandas.core.frame.DataFrame'>\n",
      "RangeIndex: 150001 entries, 0 to 150000\n",
      "Data columns (total 55 columns):\n",
      " #   Column                                    Non-Null Count   Dtype         \n",
      "---  ------                                    --------------   -----         \n",
      " 0   Bearer Id                                 149010 non-null  float64       \n",
      " 1   Start                                     150000 non-null  datetime64[ns]\n",
      " 2   Start ms                                  150000 non-null  float64       \n",
      " 3   End                                       150000 non-null  datetime64[ns]\n",
      " 4   End ms                                    150000 non-null  float64       \n",
      " 5   Dur. (ms)                                 150000 non-null  float64       \n",
      " 6   IMSI                                      149431 non-null  float64       \n",
      " 7   MSISDN/Number                             148935 non-null  float64       \n",
      " 8   IMEI                                      149429 non-null  float64       \n",
      " 9   Last Location Name                        148848 non-null  object        \n",
      " 10  Avg RTT DL (ms)                           122172 non-null  float64       \n",
      " 11  Avg RTT UL (ms)                           122189 non-null  float64       \n",
      " 12  Avg Bearer TP DL (kbps)                   150000 non-null  float64       \n",
      " 13  Avg Bearer TP UL (kbps)                   150000 non-null  float64       \n",
      " 14  TCP DL Retrans. Vol (Bytes)               61855 non-null   float64       \n",
      " 15  TCP UL Retrans. Vol (Bytes)               53352 non-null   float64       \n",
      " 16  DL TP < 50 Kbps (%)                       149247 non-null  float64       \n",
      " 17  50 Kbps < DL TP < 250 Kbps (%)            149247 non-null  float64       \n",
      " 18  250 Kbps < DL TP < 1 Mbps (%)             149247 non-null  float64       \n",
      " 19  DL TP > 1 Mbps (%)                        149247 non-null  float64       \n",
      " 20  UL TP < 10 Kbps (%)                       149209 non-null  float64       \n",
      " 21  10 Kbps < UL TP < 50 Kbps (%)             149209 non-null  float64       \n",
      " 22  50 Kbps < UL TP < 300 Kbps (%)            149209 non-null  float64       \n",
      " 23  UL TP > 300 Kbps (%)                      149209 non-null  float64       \n",
      " 24  HTTP DL (Bytes)                           68527 non-null   float64       \n",
      " 25  HTTP UL (Bytes)                           68191 non-null   float64       \n",
      " 26  Activity Duration DL (ms)                 150000 non-null  float64       \n",
      " 27  Activity Duration UL (ms)                 150000 non-null  float64       \n",
      " 28  Dur. (ms).1                               150000 non-null  float64       \n",
      " 29  Handset Manufacturer                      149429 non-null  object        \n",
      " 30  Handset Type                              149429 non-null  object        \n",
      " 31  Nb of sec with 125000B < Vol DL           52463 non-null   float64       \n",
      " 32  Nb of sec with 1250B < Vol UL < 6250B     57107 non-null   float64       \n",
      " 33  Nb of sec with 31250B < Vol DL < 125000B  56415 non-null   float64       \n",
      " 34  Nb of sec with 37500B < Vol UL            19747 non-null   float64       \n",
      " 35  Nb of sec with 6250B < Vol DL < 31250B    61684 non-null   float64       \n",
      " 36  Nb of sec with 6250B < Vol UL < 37500B    38158 non-null   float64       \n",
      " 37  Nb of sec with Vol DL < 6250B             149246 non-null  float64       \n",
      " 38  Nb of sec with Vol UL < 1250B             149208 non-null  float64       \n",
      " 39  Social Media DL (Bytes)                   150001 non-null  float64       \n",
      " 40  Social Media UL (Bytes)                   150001 non-null  float64       \n",
      " 41  Google DL (Bytes)                         150001 non-null  float64       \n",
      " 42  Google UL (Bytes)                         150001 non-null  float64       \n",
      " 43  Email DL (Bytes)                          150001 non-null  float64       \n",
      " 44  Email UL (Bytes)                          150001 non-null  float64       \n",
      " 45  Youtube DL (Bytes)                        150001 non-null  float64       \n",
      " 46  Youtube UL (Bytes)                        150001 non-null  float64       \n",
      " 47  Netflix DL (Bytes)                        150001 non-null  float64       \n",
      " 48  Netflix UL (Bytes)                        150001 non-null  float64       \n",
      " 49  Gaming DL (Bytes)                         150001 non-null  float64       \n",
      " 50  Gaming UL (Bytes)                         150001 non-null  float64       \n",
      " 51  Other DL (Bytes)                          150001 non-null  float64       \n",
      " 52  Other UL (Bytes)                          150001 non-null  float64       \n",
      " 53  Total UL (Bytes)                          150000 non-null  float64       \n",
      " 54  Total DL (Bytes)                          150000 non-null  float64       \n",
      "dtypes: datetime64[ns](2), float64(50), object(3)\n",
      "memory usage: 62.9+ MB\n"
     ]
    }
   ],
   "source": [
    "teledf.info()"
   ]
  },
  {
   "cell_type": "code",
   "execution_count": 5,
   "metadata": {},
   "outputs": [
    {
     "data": {
      "text/plain": [
       "Nb of sec with 37500B < Vol UL              130254\n",
       "Nb of sec with 6250B < Vol UL < 37500B      111843\n",
       "Nb of sec with 125000B < Vol DL              97538\n",
       "TCP UL Retrans. Vol (Bytes)                  96649\n",
       "Nb of sec with 31250B < Vol DL < 125000B     93586\n",
       "Nb of sec with 1250B < Vol UL < 6250B        92894\n",
       "Nb of sec with 6250B < Vol DL < 31250B       88317\n",
       "TCP DL Retrans. Vol (Bytes)                  88146\n",
       "HTTP UL (Bytes)                              81810\n",
       "HTTP DL (Bytes)                              81474\n",
       "Avg RTT DL (ms)                              27829\n",
       "Avg RTT UL (ms)                              27812\n",
       "Last Location Name                            1153\n",
       "MSISDN/Number                                 1066\n",
       "Bearer Id                                      991\n",
       "Nb of sec with Vol UL < 1250B                  793\n",
       "UL TP < 10 Kbps (%)                            792\n",
       "10 Kbps < UL TP < 50 Kbps (%)                  792\n",
       "50 Kbps < UL TP < 300 Kbps (%)                 792\n",
       "UL TP > 300 Kbps (%)                           792\n",
       "Nb of sec with Vol DL < 6250B                  755\n",
       "DL TP < 50 Kbps (%)                            754\n",
       "50 Kbps < DL TP < 250 Kbps (%)                 754\n",
       "250 Kbps < DL TP < 1 Mbps (%)                  754\n",
       "DL TP > 1 Mbps (%)                             754\n",
       "Handset Type                                   572\n",
       "IMEI                                           572\n",
       "Handset Manufacturer                           572\n",
       "IMSI                                           570\n",
       "Total UL (Bytes)                                 1\n",
       "Activity Duration UL (ms)                        1\n",
       "Dur. (ms).1                                      1\n",
       "End ms                                           1\n",
       "Start ms                                         1\n",
       "Start                                            1\n",
       "End                                              1\n",
       "Total DL (Bytes)                                 1\n",
       "Dur. (ms)                                        1\n",
       "Activity Duration DL (ms)                        1\n",
       "Avg Bearer TP UL (kbps)                          1\n",
       "Avg Bearer TP DL (kbps)                          1\n",
       "Netflix DL (Bytes)                               0\n",
       "Other UL (Bytes)                                 0\n",
       "Other DL (Bytes)                                 0\n",
       "Gaming UL (Bytes)                                0\n",
       "Gaming DL (Bytes)                                0\n",
       "Netflix UL (Bytes)                               0\n",
       "Youtube UL (Bytes)                               0\n",
       "Youtube DL (Bytes)                               0\n",
       "Email UL (Bytes)                                 0\n",
       "Google UL (Bytes)                                0\n",
       "Google DL (Bytes)                                0\n",
       "Social Media UL (Bytes)                          0\n",
       "Social Media DL (Bytes)                          0\n",
       "Email DL (Bytes)                                 0\n",
       "dtype: int64"
      ]
     },
     "execution_count": 5,
     "metadata": {},
     "output_type": "execute_result"
    }
   ],
   "source": [
    "teledf.isnull().sum().sort_values(ascending=False)"
   ]
  },
  {
   "cell_type": "code",
   "execution_count": 32,
   "metadata": {},
   "outputs": [],
   "source": [
    "# dropable_columns=[\n",
    "# \"Nb of sec with 37500B < Vol UL\",\n",
    "# \"Nb of sec with 6250B < Vol UL < 37500B\",\n",
    "# \"Nb of sec with 125000B < Vol DL\" ,\n",
    "# \"TCP UL Retrans. Vol (Bytes)\"\n",
    "# \"Nb of sec with 31250B < Vol DL < 125000B\",\n",
    "# \"Nb of sec with 1250B < Vol UL < 6250B\",\n",
    "# \"Nb of sec with 6250B < Vol DL < 31250B\",\n",
    "# \"TCP DL Retrans. Vol (Bytes)\",\n",
    "# \"HTTP UL (Bytes)\",\n",
    "# \"HTTP DL (Bytes)\"\n",
    "# ]\n",
    "# for el in dropable_columns:\n",
    "#     teledf.drop([el], axis=1, inplace=True)\n"
   ]
  },
  {
   "cell_type": "markdown",
   "metadata": {},
   "source": [
    "Data Exploration"
   ]
  },
  {
   "cell_type": "code",
   "execution_count": 6,
   "metadata": {},
   "outputs": [
    {
     "data": {
      "text/plain": [
       "Huawei B528S-23A                19752\n",
       "Apple iPhone 6S (A1688)          9419\n",
       "Apple iPhone 6 (A1586)           9023\n",
       "undefined                        8987\n",
       "Apple iPhone 7 (A1778)           6326\n",
       "Apple iPhone Se (A1723)          5187\n",
       "Apple iPhone 8 (A1905)           4993\n",
       "Apple iPhone Xr (A2105)          4568\n",
       "Samsung Galaxy S8 (Sm-G950F)     4520\n",
       "Apple iPhone X (A1901)           3813\n",
       "Name: Handset Type, dtype: int64"
      ]
     },
     "execution_count": 6,
     "metadata": {},
     "output_type": "execute_result"
    }
   ],
   "source": [
    "#number of handset types in the dataframe\n",
    "teledf[\"Handset Type\"].replace({\"\":None}, inplace=True)\n",
    "handsetdf=teledf[\"Handset Type\"].value_counts().nlargest(10)\n",
    "handsetdf"
   ]
  },
  {
   "cell_type": "code",
   "execution_count": 7,
   "metadata": {},
   "outputs": [
    {
     "data": {
      "text/plain": [
       "<AxesSubplot:>"
      ]
     },
     "execution_count": 7,
     "metadata": {},
     "output_type": "execute_result"
    },
    {
     "data": {
      "image/png": "[encoded data removed]",
      "text/plain": [
       "<Figure size 432x288 with 1 Axes>"
      ]
     },
     "metadata": {
      "needs_background": "light"
     },
     "output_type": "display_data"
    }
   ],
   "source": [
    "\n",
    "#number of handset types in the dataframe \n",
    "handsetdf.plot(kind=\"bar\")\n"
   ]
  },
  {
   "cell_type": "code",
   "execution_count": 8,
   "metadata": {},
   "outputs": [
    {
     "data": {
      "text/plain": [
       "Apple                                   59565\n",
       "Samsung                                 40839\n",
       "Huawei                                  34423\n",
       "undefined                                8987\n",
       "Sony Mobile Communications Ab             980\n",
       "Wiko Global Sasu                          747\n",
       "Xiaomi Communications Co Ltd              397\n",
       "Oneplus Technology (Shenzhen) Co Ltd      342\n",
       "Asustek                                   285\n",
       "Lenovo                                    254\n",
       "Name: Handset Manufacturer, dtype: int64"
      ]
     },
     "execution_count": 8,
     "metadata": {},
     "output_type": "execute_result"
    }
   ],
   "source": [
    "teledf[\"Handset Manufacturer\"].value_counts().nlargest(10)"
   ]
  },
  {
   "cell_type": "code",
   "execution_count": 9,
   "metadata": {},
   "outputs": [],
   "source": [
    "teledf[\"Handset Manufacturer\"].replace({\"undefined\":\"NaN\"}, inplace=True)\n",
    "teledf[\"Handset Manufacturer\"].dropna(inplace=True)\n",
    "clean_headset_count=teledf[\"Handset Manufacturer\"].value_counts().nlargest(10)"
   ]
  },
  {
   "cell_type": "code",
   "execution_count": 10,
   "metadata": {},
   "outputs": [
    {
     "data": {
      "text/plain": [
       "<AxesSubplot:>"
      ]
     },
     "execution_count": 10,
     "metadata": {},
     "output_type": "execute_result"
    },
    {
     "data": {
      "image/png": "[encoded data removed]",
      "text/plain": [
       "<Figure size 432x288 with 1 Axes>"
      ]
     },
     "metadata": {
      "needs_background": "light"
     },
     "output_type": "display_data"
    }
   ],
   "source": [
    "clean_headset_count.plot(kind=\"bar\")"
   ]
  },
  {
   "cell_type": "code",
   "execution_count": 11,
   "metadata": {},
   "outputs": [
    {
     "data": {
      "text/plain": [
       "Apple      59565\n",
       "Samsung    40839\n",
       "Huawei     34423\n",
       "Name: Handset Manufacturer, dtype: int64"
      ]
     },
     "execution_count": 11,
     "metadata": {},
     "output_type": "execute_result"
    }
   ],
   "source": [
    "# teledf.loc[teledf[\"Handset Manufacturer\"] == some_value]\n",
    "clean_headset_count = teledf[\"Handset Manufacturer\"].value_counts().nlargest(3)\n",
    "clean_headset_count\n"
   ]
  },
  {
   "cell_type": "code",
   "execution_count": 12,
   "metadata": {},
   "outputs": [],
   "source": [
    "\n",
    "\n",
    "appledf=teledf.loc[teledf[\"Handset Manufacturer\"] == \"Apple\"]\n",
    "samsungdf=teledf.loc[teledf[\"Handset Manufacturer\"] == \"Samsung\"]\n",
    "huaweidf = teledf.loc[teledf[\"Handset Manufacturer\"] == \"Huawei\"]\n",
    "\n"
   ]
  },
  {
   "cell_type": "code",
   "execution_count": 13,
   "metadata": {},
   "outputs": [
    {
     "name": "stdout",
     "output_type": "stream",
     "text": [
      "Apple iPhone 6S (A1688)    9419\n",
      "Apple iPhone 6 (A1586)     9023\n",
      "Apple iPhone 7 (A1778)     6326\n",
      "Apple iPhone Se (A1723)    5187\n",
      "Apple iPhone 8 (A1905)     4993\n",
      "Name: Handset Type, dtype: int64\n",
      "Samsung Galaxy S8 (Sm-G950F)    4520\n",
      "Samsung Galaxy A5 Sm-A520F      3724\n",
      "Samsung Galaxy J5 (Sm-J530)     3696\n",
      "Samsung Galaxy J3 (Sm-J330)     3484\n",
      "Samsung Galaxy S7 (Sm-G930X)    3199\n",
      "Name: Handset Type, dtype: int64\n",
      "Huawei B528S-23A                  19752\n",
      "Huawei E5180                       2079\n",
      "Huawei P20 Lite Huawei Nova 3E     2021\n",
      "Huawei P20                         1480\n",
      "Huawei Y6 2018                      997\n",
      "Name: Handset Type, dtype: int64\n"
     ]
    }
   ],
   "source": [
    "apple_handsets=appledf[\"Handset Type\"].value_counts().nlargest(5)\n",
    "samsung_handsets=samsungdf[\"Handset Type\"].value_counts().nlargest(5)\n",
    "huawei_handsets=huaweidf[\"Handset Type\"].value_counts().nlargest(5)\n",
    "print(apple_handsets)\n",
    "print(samsung_handsets)\n",
    "print(huawei_handsets)"
   ]
  },
  {
   "cell_type": "code",
   "execution_count": 14,
   "metadata": {},
   "outputs": [
    {
     "data": {
      "text/plain": [
       "<AxesSubplot:>"
      ]
     },
     "execution_count": 14,
     "metadata": {},
     "output_type": "execute_result"
    },
    {
     "data": {
      "image/png": "[encoded data removed]",
      "text/plain": [
       "<Figure size 432x288 with 1 Axes>"
      ]
     },
     "metadata": {
      "needs_background": "light"
     },
     "output_type": "display_data"
    }
   ],
   "source": [
    "apple_handsets.plot(kind=\"bar\")"
   ]
  },
  {
   "cell_type": "code",
   "execution_count": 15,
   "metadata": {},
   "outputs": [
    {
     "data": {
      "text/plain": [
       "<AxesSubplot:>"
      ]
     },
     "execution_count": 15,
     "metadata": {},
     "output_type": "execute_result"
    },
    {
     "data": {
      "image/png": "[encoded data removed]",
      "text/plain": [
       "<Figure size 432x288 with 1 Axes>"
      ]
     },
     "metadata": {
      "needs_background": "light"
     },
     "output_type": "display_data"
    }
   ],
   "source": [
    "samsung_handsets.plot(kind=\"bar\")"
   ]
  },
  {
   "cell_type": "code",
   "execution_count": 16,
   "metadata": {},
   "outputs": [
    {
     "data": {
      "text/plain": [
       "<AxesSubplot:>"
      ]
     },
     "execution_count": 16,
     "metadata": {},
     "output_type": "execute_result"
    },
    {
     "data": {
      "image/png": "[encoded data removed]",
      "text/plain": [
       "<Figure size 432x288 with 1 Axes>"
      ]
     },
     "metadata": {
      "needs_background": "light"
     },
     "output_type": "display_data"
    }
   ],
   "source": [
    "huawei_handsets.plot(kind=\"bar\")"
   ]
  },
  {
   "cell_type": "markdown",
   "metadata": {},
   "source": [
    "\n",
    "\n",
    "The most used phone on customer hands are the following:\n",
    "\n",
    "\n",
    "\n",
    "-Huawei B528S-23A (Huawei)\n",
    "-Apple iPhone 6S (Apple)\n",
    "-Apple iPhone 6 (Apple)\n"
   ]
  },
  {
   "cell_type": "code",
   "execution_count": 22,
   "metadata": {},
   "outputs": [
    {
     "name": "stdout",
     "output_type": "stream",
     "text": [
      "<class 'pandas.core.frame.DataFrame'>\n",
      "RangeIndex: 150001 entries, 0 to 150000\n",
      "Data columns (total 13 columns):\n",
      " #   Column              Non-Null Count   Dtype  \n",
      "---  ------              --------------   -----  \n",
      " 0   MSISDN/Number       150001 non-null  object \n",
      " 1   Bearer Id           150001 non-null  object \n",
      " 2   Dur. (ms)           150000 non-null  float64\n",
      " 3   Total UL (Bytes)    150000 non-null  float64\n",
      " 4   Total DL (Bytes)    150000 non-null  float64\n",
      " 5   Youtube DL (Bytes)  150001 non-null  float64\n",
      " 6   Youtube UL (Bytes)  150001 non-null  float64\n",
      " 7   Netflix DL (Bytes)  150001 non-null  float64\n",
      " 8   Netflix UL (Bytes)  150001 non-null  float64\n",
      " 9   Gaming DL (Bytes)   150001 non-null  float64\n",
      " 10  Gaming UL (Bytes)   150001 non-null  float64\n",
      " 11  Other DL (Bytes)    150001 non-null  float64\n",
      " 12  Other UL (Bytes)    150001 non-null  float64\n",
      "dtypes: float64(11), object(2)\n",
      "memory usage: 14.9+ MB\n"
     ]
    }
   ],
   "source": [
    "teledf[\"Bearer Id\"].fillna(\"Missing\", inplace=True)\n",
    "teledf[\"MSISDN/Number\"].fillna(\"Missing\", inplace=True)\n",
    "\n",
    "\n",
    "# number_of_sessions=teledf[\"Bearer Id\"].value_counts().nlargest(10)\n",
    "# number_of_sessions\n",
    "\n",
    "\n",
    "\n",
    "\n",
    "teledf[\n",
    "    [\n",
    "    \"MSISDN/Number\",\n",
    "    \"Bearer Id\",\n",
    "    \"Dur. (ms)\",\n",
    "    \"Total UL (Bytes)\",\n",
    "    \"Total DL (Bytes)\",\n",
    "    \"Youtube DL (Bytes)\",\n",
    "    \"Youtube UL (Bytes)\",\n",
    "    \"Netflix DL (Bytes)\",\n",
    "    \"Netflix UL (Bytes)\",\n",
    "    \"Gaming DL (Bytes)\",\n",
    "    \"Gaming UL (Bytes)\",\n",
    "    \"Other DL (Bytes)\",\n",
    "    \"Other UL (Bytes)\",\n",
    "]\n",
    "].ffill()\n",
    "\n",
    "teledf[\n",
    "    [\n",
    "    \"MSISDN/Number\",\n",
    "    \"Bearer Id\",\n",
    "    \"Dur. (ms)\",\n",
    "    \"Total UL (Bytes)\",\n",
    "    \"Total DL (Bytes)\",\n",
    "    \"Youtube DL (Bytes)\",\n",
    "    \"Youtube UL (Bytes)\",\n",
    "    \"Netflix DL (Bytes)\",\n",
    "    \"Netflix UL (Bytes)\",\n",
    "    \"Gaming DL (Bytes)\",\n",
    "    \"Gaming UL (Bytes)\",\n",
    "    \"Other DL (Bytes)\",\n",
    "    \"Other UL (Bytes)\",\n",
    "]\n",
    "].fillna(0)\n",
    "\n",
    "teledf[\n",
    "    [\n",
    "        \"MSISDN/Number\",\n",
    "        \"Bearer Id\",\n",
    "        \"Dur. (ms)\",\n",
    "        \"Total UL (Bytes)\",\n",
    "        \"Total DL (Bytes)\",\n",
    "            \"Youtube DL (Bytes)\",\n",
    "    \"Youtube UL (Bytes)\",\n",
    "    \"Netflix DL (Bytes)\",\n",
    "    \"Netflix UL (Bytes)\",\n",
    "    \"Gaming DL (Bytes)\",\n",
    "    \"Gaming UL (Bytes)\",\n",
    "    \"Other DL (Bytes)\",\n",
    "    \"Other UL (Bytes)\",\n",
    "    ]\n",
    "].info()\n"
   ]
  },
  {
   "cell_type": "code",
   "execution_count": 20,
   "metadata": {},
   "outputs": [
    {
     "name": "stdout",
     "output_type": "stream",
     "text": [
      "[33664962239.0, 2, 2083209.0, 69402426.0, 556747398.0, 46397870.0, 30361399.0, 518956134.0, 499850459.0]\n",
      "[33681854413.0, 2, 1698167.0, 70120478.0, 860830334.0, 52065276.0, 54559509.0, 790398596.0, 1097355968.0]\n",
      "[33760627129.0, 1, 1361762.0, 27883638.0, 279807335.0, 34425237.0, 23751202.0, 229980251.0, 414908351.0]\n",
      "[33750343200.0, 1, 1321509.0, 43324218.0, 846028530.0, 36534765.0, 15092588.0, 810387875.0, 761837216.0]\n",
      "[33699795932.0, 1, 1089009.0, 38542814.0, 569138589.0, 34222253.0, 17539799.0, 531237049.0, 564619822.0]\n",
      "[33668185951.0, 3, 1249431.0, 103320401.0, 1498816986.0, 53098520.0, 62723807.0, 1418677898.0, 853112271.0]\n",
      "[33665368271.0, 1, 1035261.0, 47925246.0, 70562047.0, 9120760.0, 31212766.0, 58881157.0, 814303325.0]\n",
      "[33763490140.0, 2, 1339841.0, 81553359.0, 1076942652.0, 55765125.0, 21835631.0, 1044238664.0, 557396434.0]\n",
      "[33698743617.0, 1, 941634.0, 42363146.0, 861612261.0, 29297508.0, 19054441.0, 828219634.0, 187669517.0]\n",
      "[33659219748.0, 8, 5305958.0, 298438759.0, 4358964156.0, 205537479.0, 186559746.0, 4075826788.0, 2940024942.0]\n",
      "[33665646348.0, 2, 992382.0, 82038436.0, 887216851.0, 36120274.0, 48817828.0, 836716303.0, 159231882.0]\n",
      "[33664473872.0, 1, 889834.0, 33691738.0, 535118044.0, 19623308.0, 20124838.0, 505668618.0, 538369717.0]\n",
      "[33603291937.0, 1, 850766.0, 39654040.0, 809144948.0, 26178247.0, 22810379.0, 769947925.0, 45876928.0]\n",
      "[33753758738.0, 1, 780471.0, 58387271.0, 42659750.0, 26558004.0, 5557753.0, 42366688.0, 152500509.0]\n",
      "[33669013307.0, 1, 767722.0, 46258856.0, 153334647.0, 36068912.0, 19965376.0, 124373236.0, 371687999.0]\n",
      "[33668779552.0, 2, 1052887.0, 61534939.0, 922812645.0, 48782078.0, 32199245.0, 865530774.0, 1058023311.0]\n",
      "[33698759051.0, 1, 778387.0, 38243075.0, 372274145.0, 21482026.0, 30899577.0, 330372600.0, 56842974.0]\n",
      "[33760595345.0, 2, 1213633.0, 87774604.0, 976959539.0, 70896441.0, 21209480.0, 931218564.0, 863325467.0]\n",
      "[33658752999.0, 6, 1672494.0, 240711138.0, 2475276028.0, 131799216.0, 127857367.0, 2342544052.0, 2156596345.0]\n",
      "[33621235801.0, 1, 723714.0, 47907839.0, 574540675.0, 21694712.0, 29745803.0, 540696101.0, 464217831.0]\n",
      "[33681827486.0, 1, 686791.0, 46980422.0, 787146780.0, 22964595.0, 11366196.0, 772305321.0, 785931673.0]\n",
      "[33611536843.0, 1, 711485.0, 52481245.0, 877853309.0, 36434008.0, 26978990.0, 837806131.0, 152148036.0]\n",
      "[33770418553.0, 2, 834460.0, 80067670.0, 983641486.0, 50154952.0, 51860097.0, 919908553.0, 731454852.0]\n",
      "[33662839194.0, 2, 850415.0, 79916839.0, 316663182.0, 46957722.0, 46960205.0, 263242000.0, 795958126.0]\n",
      "[33664343412.0, 2, 1019618.0, 99232860.0, 614362038.0, 66008160.0, 36463477.0, 566250278.0, 926186804.0]\n",
      "[33669162989.0, 1, 695346.0, 42717516.0, 113939285.0, 27628170.0, 20457837.0, 90104335.0, 689308889.0]\n",
      "[33698257107.0, 1, 682926.0, 31132908.0, 670973049.0, 27966630.0, 11195322.0, 646210352.0, 302480352.0]\n",
      "[33603635998.0, 1, 621923.0, 49828125.0, 112742363.0, 29659863.0, 35357366.0, 68149169.0, 542574550.0]\n",
      "[33699476051.0, 2, 692400.0, 78699383.0, 985399174.0, 35333133.0, 29046533.0, 943750519.0, 258194259.0]\n",
      "[33658856271.0, 1, 646050.0, 45739087.0, 590490682.0, 12645725.0, 26568328.0, 577634057.0, 542877829.0]\n",
      "[33760209539.0, 1, 592962.0, 51941618.0, 862646806.0, 26718513.0, 34003435.0, 828163581.0, 32526026.0]\n",
      "[33663365295.0, 1, 638431.0, 12317195.0, 424577264.0, 25254713.0, 19089649.0, 376313567.0, 432824857.0]\n",
      "[33662567561.0, 2, 947246.0, 44525517.0, 1154163749.0, 19406434.0, 47822919.0, 1092875793.0, 313880430.0]\n",
      "[33660658990.0, 1, 601989.0, 36924665.0, 174348075.0, 27953489.0, 17092039.0, 152111802.0, 298507818.0]\n",
      "[33763937955.0, 1, 604800.0, 49727524.0, 267689014.0, 38187388.0, 29681520.0, 224511685.0, 307407730.0]\n",
      "[33669734266.0, 1, 603555.0, 47241852.0, 274117768.0, 26400928.0, 32963192.0, 245155871.0, 198900644.0]\n",
      "[33680056205.0, 1, 579983.0, 30542499.0, 420031677.0, 4222709.0, 29558972.0, 396493865.0, 205920777.0]\n",
      "[33760843603.0, 2, 700900.0, 86481658.0, 516196063.0, 47716328.0, 50073461.0, 474405755.0, 637558125.0]\n",
      "[33666145510.0, 2, 582544.0, 97414140.0, 422290743.0, 61238002.0, 50883470.0, 360078067.0, 1064471151.0]\n",
      "[33763531539.0, 5, 1507998.0, 190915669.0, 2028763303.0, 140673930.0, 85887887.0, 1884408973.0, 2009519297.0]\n",
      "[33650790507.0, 2, 692553.0, 57737901.0, 1033115855.0, 37665110.0, 39754446.0, 962520378.0, 673374788.0]\n",
      "[33669127720.0, 7, 1695581.0, 306866862.0, 3074691813.0, 136271780.0, 155384641.0, 2928663510.0, 3037542030.0]\n",
      "[33665230397.0, 4, 1251311.0, 183780032.0, 1357515320.0, 79689166.0, 74530022.0, 1301708682.0, 1470611551.0]\n",
      "[33666470093.0, 1, 514902.0, 37060937.0, 197228294.0, 34794414.0, 20219906.0, 165816330.0, 769910662.0]\n",
      "[33650140705.0, 6, 1848826.0, 252727631.0, 2360541616.0, 134861506.0, 129128563.0, 2223160823.0, 3011024631.0]\n",
      "[33760019629.0, 1, 496761.0, 59420203.0, 460224884.0, 26147918.0, 33405849.0, 437302257.0, 550035645.0]\n",
      "[33662755009.0, 1, 447459.0, 45791565.0, 415285422.0, 16276068.0, 25673310.0, 391673128.0, 142432339.0]\n",
      "[33684296989.0, 4, 732718.0, 175652422.0, 1000065247.0, 86570274.0, 105693884.0, 899046324.0, 2048863046.0]\n",
      "[33608589700.0, 3, 659492.0, 167647030.0, 1631679027.0, 84350127.0, 102038401.0, 1547277896.0, 1174642712.0]\n",
      "[33658073603.0, 4, 971552.0, 158466890.0, 1537566372.0, 56968787.0, 97984556.0, 1461747463.0, 1667439586.0]\n",
      "[33661068875.0, 1, 400462.0, 53559545.0, 633644175.0, 26174526.0, 21441817.0, 609866787.0, 796556295.0]\n",
      "[33610912213.0, 3, 690799.0, 118146755.0, 1472447437.0, 89137411.0, 63436877.0, 1395398617.0, 1932120799.0]\n",
      "[33678686567.0, 1, 403438.0, 31977269.0, 590538709.0, 26571780.0, 18087783.0, 559200382.0, 151145061.0]\n",
      "[33667670953.0, 1, 466084.0, 31714659.0, 704967203.0, 23146533.0, 28861100.0, 666697866.0, 132279765.0]\n",
      "[33760874920.0, 1, 423951.0, 11065239.0, 721471761.0, 11050106.0, 12239655.0, 701078093.0, 131586144.0]\n",
      "[33668365932.0, 1, 374127.0, 45093796.0, 70774187.0, 27961467.0, 31736633.0, 34851795.0, 163232229.0]\n",
      "[33699429799.0, 4, 877860.0, 152259356.0, 1225496770.0, 80180925.0, 114098454.0, 1096631486.0, 1487212317.0]\n",
      "[33659514004.0, 1, 404979.0, 44127739.0, 54648132.0, 15015836.0, 25865712.0, 40700442.0, 609788323.0]\n",
      "[33663640699.0, 2, 490150.0, 62743228.0, 1455521125.0, 59272985.0, 58048362.0, 1370249201.0, 378486342.0]\n",
      "[33660096632.0, 1, 316419.0, 50065095.0, 538809148.0, 26221282.0, 33016593.0, 517411244.0, 351957444.0]\n",
      "[33650787885.0, 2, 406435.0, 61019403.0, 963367420.0, 36075755.0, 38856259.0, 909838208.0, 757473220.0]\n",
      "[33662737192.0, 2, 567417.0, 103940197.0, 685139485.0, 62681251.0, 54137248.0, 639555314.0, 673761574.0]\n",
      "[33603101761.0, 2, 363829.0, 88389852.0, 1252280010.0, 45515623.0, 67187993.0, 1173680638.0, 560277260.0]\n",
      "[33682429026.0, 1, 299254.0, 49991802.0, 79070742.0, 24593154.0, 21562826.0, 58427088.0, 129129195.0]\n",
      "[33760575265.0, 6, 750211.0, 250162383.0, 3447579868.0, 133494469.0, 161173487.0, 3264313983.0, 2471968956.0]\n",
      "[33684514718.0, 2, 499293.0, 68849459.0, 1108299537.0, 23742608.0, 11834036.0, 1102157027.0, 575896311.0]\n",
      "[33760601467.0, 2, 367194.0, 75412799.0, 886125883.0, 32400042.0, 35276729.0, 853519523.0, 1256454509.0]\n",
      "[33616435409.0, 6, 1051771.0, 269049770.0, 1534093239.0, 111615490.0, 137617111.0, 1424772666.0, 3829845876.0]\n",
      "[33698155378.0, 1, 358142.0, 44315568.0, 743956998.0, 28105267.0, 5189909.0, 724436010.0, 465980649.0]\n",
      "[33607846541.0, 1, 361027.0, 48549355.0, 97505981.0, 24500593.0, 17620515.0, 88022989.0, 91991556.0]\n",
      "[33669165983.0, 6, 865103.0, 235827257.0, 1982362962.0, 106859785.0, 155274974.0, 1817814470.0, 3590882012.0]\n",
      "[33778020861.0, 2, 369829.0, 69195065.0, 526654845.0, 32247104.0, 42999568.0, 489220005.0, 880952803.0]\n",
      "[33661315626.0, 3, 590563.0, 141882303.0, 2146302177.0, 104457941.0, 65503290.0, 2060768045.0, 1116337508.0]\n",
      "[33667454734.0, 1, 275891.0, 31385335.0, 248898481.0, 8853469.0, 12137238.0, 240589222.0, 265376970.0]\n",
      "[33661347435.0, 5, 950407.0, 162784544.0, 2151404553.0, 102927321.0, 110386743.0, 1985263633.0, 1914866999.0]\n",
      "[33664996866.0, 3, 508959.0, 100129496.0, 1123889075.0, 56779720.0, 51948933.0, 1046941863.0, 1075743043.0]\n",
      "[33665550434.0, 4, 631871.0, 158992611.0, 2192631412.0, 75641187.0, 106407483.0, 2103055980.0, 601630099.0]\n",
      "[33675877202.0, 15, 4865947.0, 581568792.0, 7309541816.0, 317410572.0, 309093159.0, 6970567597.0, 6798515150.0]\n",
      "[33663676737.0, 2, 344335.0, 56790626.0, 1303516461.0, 69556800.0, 39592828.0, 1226709732.0, 1127271046.0]\n",
      "[33643717566.0, 2, 342976.0, 98621165.0, 567583717.0, 24817183.0, 59641814.0, 537660845.0, 829241764.0]\n",
      "[33663581490.0, 1, 318400.0, 36660798.0, 681090272.0, 16828487.0, 16461257.0, 667102105.0, 702719555.0]\n",
      "[33781809445.0, 1, 254071.0, 39382039.0, 87904398.0, 39723938.0, 20085703.0, 44307422.0, 264360214.0]\n",
      "[33685416886.0, 2, 269890.0, 83840264.0, 1327338621.0, 63161432.0, 52060578.0, 1252602942.0, 751721722.0]\n",
      "[33624438887.0, 1, 313319.0, 28678366.0, 299140597.0, 19390686.0, 11055623.0, 275007788.0, 166092350.0]\n",
      "[33615131469.0, 3, 445215.0, 123166938.0, 544189731.0, 48152700.0, 65388938.0, 493986456.0, 1299112559.0]\n",
      "[33664947886.0, 1, 230839.0, 30713366.0, 329159454.0, 17789231.0, 19448226.0, 294855187.0, 507061382.0]\n",
      "[33664031042.0, 2, 293481.0, 83133733.0, 1382814072.0, 77864437.0, 19310941.0, 1330158324.0, 1197963695.0]\n",
      "[33668752351.0, 1, 239954.0, 21749419.0, 549470626.0, 16163372.0, 26322357.0, 523189698.0, 284781277.0]\n",
      "[33761730455.0, 1, 241108.0, 25383544.0, 752194916.0, 28572302.0, 15935489.0, 722950733.0, 572117746.0]\n",
      "[33628965485.0, 1, 239271.0, 51019462.0, 150057867.0, 26520197.0, 30513721.0, 122420553.0, 116625705.0]\n",
      "[33658667823.0, 2, 367336.0, 94119687.0, 791549926.0, 47162844.0, 49912214.0, 760665122.0, 271313101.0]\n",
      "[33676725364.0, 2, 353294.0, 82583091.0, 1011203851.0, 50523662.0, 30181291.0, 977750163.0, 778287637.0]\n",
      "[33660966816.0, 3, 454897.0, 111325844.0, 741197126.0, 71347718.0, 57449845.0, 639767189.0, 1949147926.0]\n",
      "[33753951131.0, 2, 328354.0, 65261240.0, 1682537610.0, 30336015.0, 42585765.0, 1630059794.0, 1294472159.0]\n",
      "[33665924230.0, 3, 678579.0, 148529154.0, 1338718116.0, 86539248.0, 70801401.0, 1265783171.0, 1135006711.0]\n",
      "[33660299814.0, 2, 295229.0, 111425339.0, 1356783542.0, 55692342.0, 44307671.0, 1328508166.0, 471296613.0]\n",
      "[33668071592.0, 2, 294622.0, 61960073.0, 1210351018.0, 34857578.0, 39473903.0, 1160814551.0, 369028868.0]\n",
      "[33658962567.0, 4, 517008.0, 164082965.0, 2539584887.0, 105548368.0, 79900475.0, 2441563642.0, 2683201895.0]\n",
      "[33763210206.0, 2, 264084.0, 93430514.0, 1514103647.0, 58269821.0, 65164188.0, 1438002165.0, 773731712.0]\n",
      "[33652868586.0, 5, 600453.0, 201983960.0, 2483157588.0, 102852624.0, 108174823.0, 2376935196.0, 2190898330.0]\n",
      "[33750328312.0, 3, 425018.0, 118129036.0, 2201448904.0, 71459431.0, 72217232.0, 2114307758.0, 1570575353.0]\n",
      "[33699752803.0, 1, 222541.0, 50838236.0, 868657929.0, 38270215.0, 33860329.0, 829028674.0, 524745989.0]\n",
      "[33699039779.0, 3, 465984.0, 138654298.0, 1485922193.0, 92698035.0, 75945681.0, 1394335642.0, 1357209645.0]\n",
      "[33617501726.0, 2, 253170.0, 93811565.0, 1283289872.0, 41164035.0, 36371424.0, 1244584772.0, 467651667.0]\n",
      "[33688966882.0, 2, 312550.0, 94927342.0, 853556734.0, 66261839.0, 66055949.0, 772338172.0, 1203993336.0]\n",
      "[33760215812.0, 2, 265493.0, 85314148.0, 1227091072.0, 47347269.0, 52051777.0, 1158584125.0, 949313018.0]\n",
      "[33699058627.0, 2, 332405.0, 70770154.0, 857434883.0, 40422718.0, 15917767.0, 838434997.0, 757973446.0]\n",
      "[33678913327.0, 4, 446323.0, 154736934.0, 1343095178.0, 73053397.0, 75344821.0, 1255979051.0, 2078886509.0]\n",
      "[33761467629.0, 2, 338556.0, 81039917.0, 536626869.0, 43781557.0, 49684955.0, 479846151.0, 1350682847.0]\n",
      "[33668411854.0, 2, 373905.0, 112036116.0, 950442428.0, 50594301.0, 44299281.0, 929143077.0, 458821670.0]\n",
      "[33659042114.0, 1, 230135.0, 27012678.0, 233562777.0, 10897854.0, 10388409.0, 225681792.0, 408660361.0]\n",
      "[33667005711.0, 5, 500757.0, 201508405.0, 959338741.0, 115915552.0, 140632857.0, 825210544.0, 2258506497.0]\n",
      "[33689510847.0, 2, 270501.0, 91061439.0, 854935317.0, 54426869.0, 40251544.0, 803400818.0, 805225411.0]\n",
      "[33650331265.0, 5, 607148.0, 231887190.0, 2194889471.0, 149572832.0, 129855175.0, 2045357809.0, 1187075816.0]\n",
      "[33785166708.0, 2, 251526.0, 99537078.0, 706247896.0, 36506504.0, 48901718.0, 675311268.0, 493893041.0]\n",
      "[33671512366.0, 2, 254476.0, 60032304.0, 774867766.0, 33084950.0, 30924326.0, 727614738.0, 586609593.0]\n",
      "[33665660806.0, 2, 222912.0, 94072213.0, 730319116.0, 56588128.0, 51110559.0, 680666172.0, 702542916.0]\n",
      "[33636636232.0, 3, 369284.0, 151238941.0, 2078324347.0, 104279763.0, 83968020.0, 1982629673.0, 874831783.0]\n",
      "[33603693094.0, 4, 408039.0, 163976491.0, 1472057852.0, 74743653.0, 85905902.0, 1389827201.0, 1173007429.0]\n",
      "[33787024401.0, 1, 208289.0, 47281570.0, 201014015.0, 22159927.0, 26577067.0, 177746086.0, 120813807.0]\n",
      "[33666065675.0, 2, 226309.0, 68948054.0, 993416928.0, 27446532.0, 53542756.0, 945752566.0, 531466959.0]\n",
      "[33659439927.0, 1, 187111.0, 64806718.0, 175346372.0, 25759983.0, 36617580.0, 159784603.0, 707406253.0]\n",
      "[33664846392.0, 1, 273452.0, 38264643.0, 588753989.0, 16359555.0, 22619028.0, 573005679.0, 325881720.0]\n",
      "[33753816764.0, 1, 187050.0, 51997361.0, 311649506.0, 40791044.0, 5767683.0, 291822821.0, 337766344.0]\n",
      "[33632452443.0, 2, 295998.0, 85965961.0, 1013322456.0, 38566994.0, 71585619.0, 948277699.0, 505147189.0]\n",
      "[33669058269.0, 2, 322531.0, 72230487.0, 1144224347.0, 54550981.0, 43065113.0, 1093241445.0, 419825666.0]\n",
      "[33665440152.0, 3, 285675.0, 107350610.0, 1240049417.0, 70822269.0, 46727363.0, 1185284641.0, 1613761166.0]\n",
      "[33658045202.0, 2, 206000.0, 78430036.0, 812456962.0, 36503694.0, 46448757.0, 765141283.0, 876130168.0]\n",
      "[33666871809.0, 2, 262566.0, 94880007.0, 794179040.0, 58094428.0, 48055206.0, 724646132.0, 545105365.0]\n",
      "[33663395710.0, 3, 425095.0, 110875592.0, 1545069967.0, 57088941.0, 78865003.0, 1479648080.0, 656406541.0]\n",
      "[33650587397.0, 3, 392701.0, 158409774.0, 1317682999.0, 64386330.0, 89319687.0, 1252346919.0, 1955278086.0]\n",
      "[33604053148.0, 3, 393452.0, 113191737.0, 1424977071.0, 88144625.0, 56625561.0, 1339282151.0, 623438035.0]\n",
      "[33636704855.0, 2, 340256.0, 80683190.0, 1031985785.0, 49639479.0, 47154784.0, 979474187.0, 460827970.0]\n",
      "[33650392011.0, 2, 258330.0, 72796141.0, 1520283925.0, 66835698.0, 12755457.0, 1468382349.0, 707179657.0]\n",
      "[33699527358.0, 2, 246007.0, 74715659.0, 1459203525.0, 50585165.0, 42450645.0, 1406145800.0, 750415364.0]\n",
      "[33761168476.0, 2, 250371.0, 74009002.0, 1169338912.0, 46803025.0, 35676057.0, 1131307402.0, 1284726289.0]\n",
      "[33664880153.0, 2, 259199.0, 80863903.0, 501781296.0, 35866110.0, 41388229.0, 472963861.0, 764089394.0]\n",
      "[33663537175.0, 6, 806173.0, 207118139.0, 2387227127.0, 153315097.0, 110268572.0, 2199171668.0, 1992516146.0]\n",
      "[33665354456.0, 6, 604799.0, 274710828.0, 4325772412.0, 144172756.0, 133316663.0, 4187737017.0, 2956758613.0]\n",
      "[33761340119.0, 3, 343756.0, 136573791.0, 1379093950.0, 62385478.0, 74331329.0, 1317471359.0, 2093710433.0]\n",
      "[33659715551.0, 2, 250687.0, 80302882.0, 1027902508.0, 54404757.0, 24816193.0, 983276894.0, 1261980085.0]\n",
      "[33760348516.0, 2, 259183.0, 80409508.0, 955792072.0, 57917001.0, 26095564.0, 911117418.0, 114650415.0]\n",
      "[33761338642.0, 5, 789433.0, 251377897.0, 2539154367.0, 127960072.0, 134587002.0, 2422326436.0, 2431366822.0]\n",
      "[33667979148.0, 2, 259200.0, 77632625.0, 1530271479.0, 64630643.0, 29186550.0, 1476861854.0, 1220709816.0]\n",
      "[33658159696.0, 2, 322854.0, 84003273.0, 269035728.0, 56206417.0, 59584292.0, 200065807.0, 849377686.0]\n",
      "[33650059450.0, 2, 259195.0, 62462555.0, 1016342796.0, 21742677.0, 18796737.0, 983231613.0, 1339183970.0]\n",
      "[33663873797.0, 2, 259156.0, 87861289.0, 1046773645.0, 50370481.0, 39009082.0, 999332245.0, 613331186.0]\n",
      "[33662216472.0, 3, 345598.0, 109505757.0, 1529424368.0, 61961365.0, 56109587.0, 1473604069.0, 1242037571.0]\n",
      "[33661261599.0, 3, 345598.0, 118267643.0, 606088880.0, 50591898.0, 76539196.0, 529614602.0, 1544634420.0]\n",
      "[33665771979.0, 3, 345598.0, 126010871.0, 1257450602.0, 60995225.0, 54237829.0, 1197415769.0, 1076956245.0]\n",
      "[33699980668.0, 3, 336904.0, 131701873.0, 1305316194.0, 27045290.0, 106356742.0, 1225888185.0, 1326434842.0]\n",
      "[33666777857.0, 3, 387890.0, 110844233.0, 958959014.0, 59094049.0, 51566298.0, 894600726.0, 1333163277.0]\n",
      "[33658087820.0, 5, 528668.0, 186285243.0, 2461877247.0, 154466909.0, 112153138.0, 2292436863.0, 1918965345.0]\n",
      "[33650061464.0, 2, 263252.0, 74356644.0, 1063026438.0, 40046273.0, 24577418.0, 1030116551.0, 926559149.0]\n",
      "[33762492300.0, 2, 246824.0, 70562097.0, 1263964772.0, 71117317.0, 48927462.0, 1174938525.0, 701455671.0]\n",
      "[33761263072.0, 4, 390777.0, 154428564.0, 1773645965.0, 86659837.0, 64934279.0, 1714290948.0, 2474826441.0]\n",
      "[33623472645.0, 2, 229177.0, 66872604.0, 700576876.0, 23352034.0, 57319317.0, 652675977.0, 1127523701.0]\n",
      "[33780044142.0, 4, 471490.0, 149970595.0, 1813793843.0, 74431192.0, 79964994.0, 1736542725.0, 2286755607.0]\n",
      "[33661872520.0, 3, 345598.0, 133700730.0, 1440768932.0, 69430952.0, 83896594.0, 1367705463.0, 756922798.0]\n",
      "[33665122920.0, 3, 290763.0, 132257739.0, 1282620842.0, 64681707.0, 66013698.0, 1238542688.0, 1590665987.0]\n",
      "[33665099965.0, 3, 292204.0, 106606518.0, 1379864227.0, 62922762.0, 36141114.0, 1324375916.0, 1485247077.0]\n",
      "[33627850141.0, 3, 386179.0, 146706641.0, 1874424289.0, 73578498.0, 89378002.0, 1803335845.0, 1781857347.0]\n",
      "[33769552508.0, 3, 389437.0, 109791727.0, 940203837.0, 34091880.0, 89992493.0, 852678585.0, 1358981537.0]\n",
      "[33622436945.0, 2, 178021.0, 94452825.0, 1044227888.0, 47018563.0, 58500462.0, 988169199.0, 566560827.0]\n",
      "[33679486729.0, 1, 159759.0, 44721542.0, 712001855.0, 42133070.0, 4777650.0, 686503215.0, 176618363.0]\n",
      "[33646181976.0, 8, 1249844.0, 356025675.0, 3461601384.0, 200513467.0, 193397456.0, 3256263990.0, 4251735296.0]\n",
      "[33668495500.0, 2, 207176.0, 75725186.0, 1051711445.0, 66600299.0, 22433180.0, 985957383.0, 744202795.0]\n",
      "[33667034360.0, 1, 159850.0, 20265073.0, 289680514.0, 15636845.0, 14088667.0, 263900705.0, 250187204.0]\n",
      "[33660594196.0, 2, 211651.0, 75901316.0, 1520232108.0, 37654375.0, 52043200.0, 1447204587.0, 1299483583.0]\n",
      "[33667549512.0, 1, 147427.0, 32261880.0, 681660595.0, 20355561.0, 19058292.0, 656284758.0, 82313418.0]\n",
      "[33668451771.0, 1, 146251.0, 44339264.0, 528597815.0, 31669530.0, 27561563.0, 495523285.0, 572043047.0]\n",
      "[33768127237.0, 3, 329224.0, 113321898.0, 863359545.0, 63959377.0, 44915891.0, 796742656.0, 1503014618.0]\n",
      "[33662105508.0, 2, 296010.0, 74314145.0, 1162594338.0, 52116188.0, 26824688.0, 1114799447.0, 796191485.0]\n",
      "[33667238502.0, 3, 257822.0, 110787794.0, 1051222720.0, 64833403.0, 56046146.0, 978976062.0, 489623333.0]\n",
      "[33663392517.0, 1, 148866.0, 41368953.0, 656403962.0, 29254162.0, 22014113.0, 628499491.0, 663504838.0]\n",
      "[33607915807.0, 1, 154080.0, 52411203.0, 480708610.0, 20072939.0, 29120209.0, 463712397.0, 34245856.0]\n",
      "[33619748356.0, 1, 163462.0, 34917499.0, 367533863.0, 35543629.0, 9861705.0, 340430306.0, 482807481.0]\n",
      "[33658814249.0, 2, 443714.0, 74669933.0, 1242131680.0, 34483939.0, 52073874.0, 1179907135.0, 913490390.0]\n",
      "[33763993298.0, 1, 158014.0, 25720652.0, 555294530.0, 22928871.0, 18688658.0, 518783020.0, 292584240.0]\n",
      "[33617234668.0, 2, 331488.0, 64570991.0, 920232537.0, 46889575.0, 46624131.0, 859240941.0, 672584812.0]\n",
      "[33660895816.0, 1, 160190.0, 47577299.0, 256599642.0, 30066317.0, 16705808.0, 226425057.0, 691037230.0]\n",
      "[33666584978.0, 2, 208474.0, 119575345.0, 497957477.0, 79578604.0, 55405364.0, 441836577.0, 1629237259.0]\n",
      "[33667601476.0, 1, 146249.0, 38677880.0, 470537110.0, 18024678.0, 26264757.0, 448582982.0, 492442348.0]\n",
      "[33769732029.0, 4, 637275.0, 141923096.0, 1036561572.0, 74714039.0, 89125973.0, 929805406.0, 1319715932.0]\n",
      "[33668624215.0, 1, 146563.0, 49135250.0, 396562264.0, 28323604.0, 27211684.0, 365910590.0, 194807504.0]\n",
      "[33658598719.0, 2, 177501.0, 81201036.0, 559835465.0, 59051019.0, 31561255.0, 515711666.0, 332339352.0]\n",
      "[33650385957.0, 3, 314588.0, 142111131.0, 1402831885.0, 61337394.0, 77639353.0, 1355700506.0, 1560739678.0]\n",
      "[33645205455.0, 2, 233088.0, 77823151.0, 1264177791.0, 36353795.0, 41712375.0, 1219969358.0, 1026502442.0]\n",
      "[33659815231.0, 1, 139378.0, 31903477.0, 328496279.0, 31268744.0, 37688148.0, 275845851.0, 431975562.0]\n",
      "[33663048734.0, 1, 152930.0, 38909366.0, 440224158.0, 3408062.0, 30059189.0, 433882669.0, 121521155.0]\n",
      "[33668864464.0, 2, 196250.0, 71892268.0, 648347052.0, 35843390.0, 13030852.0, 644999751.0, 1451679518.0]\n",
      "[33769823925.0, 2, 163305.0, 73638767.0, 827597718.0, 19655862.0, 37440141.0, 811285334.0, 874896884.0]\n",
      "[33602500925.0, 3, 274549.0, 128291887.0, 1340331030.0, 90588063.0, 70860132.0, 1243123237.0, 1744910050.0]\n",
      "[33620803644.0, 2, 168102.0, 78356425.0, 1345072664.0, 32665615.0, 51750077.0, 1307566272.0, 479353037.0]\n",
      "[33662294516.0, 2, 192539.0, 73058686.0, 1089876606.0, 40836776.0, 48978526.0, 1031717675.0, 798967381.0]\n",
      "[33781358966.0, 3, 430188.0, 118340439.0, 1289619513.0, 74254129.0, 37669295.0, 1231703498.0, 2018400237.0]\n",
      "[33610855852.0, 2, 204798.0, 53733795.0, 929299937.0, 31352984.0, 45577346.0, 859703586.0, 910499063.0]\n",
      "[33613692403.0, 1, 155813.0, 48611195.0, 251881563.0, 29942257.0, 32408149.0, 217833229.0, 790301767.0]\n",
      "[33699127138.0, 2, 194357.0, 70653447.0, 424497384.0, 51095151.0, 63377592.0, 349546818.0, 523615809.0]\n",
      "[33650119850.0, 4, 514696.0, 183196171.0, 1821632171.0, 96379204.0, 75259908.0, 1755576052.0, 1630587134.0]\n",
      "[33628911334.0, 2, 225249.0, 51352527.0, 187744232.0, 34035383.0, 46618484.0, 122755481.0, 259343997.0]\n",
      "[33665123177.0, 2, 154444.0, 76005131.0, 1397464351.0, 19808355.0, 45277457.0, 1369818799.0, 1344372571.0]\n",
      "[33782894226.0, 1, 158324.0, 36382712.0, 47066281.0, 31049289.0, 22506336.0, 8255467.0, 645019917.0]\n",
      "[33783111091.0, 1, 149699.0, 44549308.0, 29034344.0, 21368993.0, 20586561.0, 19111896.0, 785043928.0]\n",
      "[33660428890.0, 1, 157784.0, 22006051.0, 280104253.0, 32406963.0, 4996361.0, 246752262.0, 816932928.0]\n",
      "[33762200507.0, 2, 243630.0, 94359643.0, 1060149677.0, 41326508.0, 49057736.0, 1006274964.0, 448428124.0]\n",
      "[33661890687.0, 2, 210689.0, 62069793.0, 485216825.0, 44086693.0, 52471816.0, 422992291.0, 1190228852.0]\n",
      "[33635384291.0, 2, 280074.0, 97749488.0, 852879700.0, 51985771.0, 58346311.0, 795619965.0, 1111363082.0]\n",
      "[33685176857.0, 2, 163318.0, 78750600.0, 916243004.0, 54289446.0, 40720708.0, 866147831.0, 680219443.0]\n",
      "[33698602246.0, 2, 316922.0, 80650378.0, 847518060.0, 29229251.0, 52228968.0, 809848443.0, 484884970.0]\n",
      "[33666440373.0, 2, 203184.0, 126103107.0, 852712827.0, 33595846.0, 59758583.0, 829892928.0, 824985049.0]\n",
      "[33677339589.0, 2, 214685.0, 78886687.0, 581005433.0, 37965144.0, 47489514.0, 533267872.0, 629540497.0]\n",
      "[33615132493.0, 2, 188445.0, 48298450.0, 1330791407.0, 34671726.0, 24629950.0, 1290337584.0, 930085625.0]\n",
      "[33768534087.0, 2, 163895.0, 86391235.0, 1539881316.0, 53393636.0, 38854597.0, 1482663949.0, 1125087578.0]\n",
      "[33672883871.0, 3, 357831.0, 110329030.0, 1526807300.0, 59227804.0, 63710738.0, 1473205332.0, 548158711.0]\n",
      "[33668255292.0, 2, 161702.0, 60579326.0, 782533373.0, 23150353.0, 34714798.0, 759075111.0, 1173302011.0]\n",
      "[33613485204.0, 3, 341374.0, 118407592.0, 784266342.0, 65506505.0, 75499098.0, 700875115.0, 1835604799.0]\n",
      "[33615164250.0, 3, 542525.0, 90544138.0, 1729690392.0, 77125169.0, 50389920.0, 1625114650.0, 846369736.0]\n",
      "[33660131039.0, 1, 150974.0, 43253250.0, 199662646.0, 10202728.0, 24288393.0, 190869873.0, 154691048.0]\n",
      "[33658482973.0, 1, 132488.0, 24795647.0, 70390820.0, 7644051.0, 16386298.0, 49916618.0, 360368952.0]\n",
      "[33637236202.0, 2, 191648.0, 47132241.0, 919496868.0, 37523080.0, 24836326.0, 863221532.0, 1174181399.0]\n",
      "[33629050519.0, 2, 193544.0, 60065194.0, 455267964.0, 42584730.0, 21500547.0, 402521442.0, 475573295.0]\n",
      "[33754252681.0, 4, 413742.0, 156375589.0, 2090567793.0, 88718968.0, 76704637.0, 2000788813.0, 1977627984.0]\n",
      "[33647561252.0, 2, 279354.0, 58575727.0, 1351145297.0, 31225072.0, 32643106.0, 1311079215.0, 1023059233.0]\n",
      "[33771202124.0, 2, 164093.0, 88514909.0, 532919281.0, 52157326.0, 82315869.0, 444679200.0, 214613593.0]\n",
      "[33660111576.0, 3, 406730.0, 82593091.0, 1368725013.0, 36885692.0, 34177399.0, 1323358390.0, 341413700.0]\n"
     ]
    },
    {
     "ename": "IndexError",
     "evalue": "single positional indexer is out-of-bounds",
     "output_type": "error",
     "traceback": [
      "\u001b[1;31m---------------------------------------------------------------------------\u001b[0m",
      "\u001b[1;31mIndexError\u001b[0m                                Traceback (most recent call last)",
      "\u001b[1;32md:\\!0 Acadamy\\week 1\\notebooks\\notebook.ipynb Cell 22'\u001b[0m in \u001b[0;36m<cell line: 4>\u001b[1;34m()\u001b[0m\n\u001b[0;32m      <a href='vscode-notebook-cell:/d%3A/%210%20Acadamy/week%201/notebooks/notebook.ipynb#ch0000021?line=6'>7</a>\u001b[0m         userow\u001b[39m=\u001b[39mteledf\u001b[39m.\u001b[39mloc[teledf[\u001b[39m\"\u001b[39m\u001b[39mMSISDN/Number\u001b[39m\u001b[39m\"\u001b[39m] \u001b[39m==\u001b[39m usr]\n\u001b[0;32m      <a href='vscode-notebook-cell:/d%3A/%210%20Acadamy/week%201/notebooks/notebook.ipynb#ch0000021?line=8'>9</a>\u001b[0m         nwdf\u001b[39m=\u001b[39muserow[\n\u001b[0;32m     <a href='vscode-notebook-cell:/d%3A/%210%20Acadamy/week%201/notebooks/notebook.ipynb#ch0000021?line=9'>10</a>\u001b[0m             [\n\u001b[0;32m     <a href='vscode-notebook-cell:/d%3A/%210%20Acadamy/week%201/notebooks/notebook.ipynb#ch0000021?line=10'>11</a>\u001b[0m                 \u001b[39m\"\u001b[39m\u001b[39mMSISDN/Number\u001b[39m\u001b[39m\"\u001b[39m,\n\u001b[1;32m   (...)\u001b[0m\n\u001b[0;32m     <a href='vscode-notebook-cell:/d%3A/%210%20Acadamy/week%201/notebooks/notebook.ipynb#ch0000021?line=23'>24</a>\u001b[0m             ]\n\u001b[0;32m     <a href='vscode-notebook-cell:/d%3A/%210%20Acadamy/week%201/notebooks/notebook.ipynb#ch0000021?line=24'>25</a>\u001b[0m         ]\n\u001b[0;32m     <a href='vscode-notebook-cell:/d%3A/%210%20Acadamy/week%201/notebooks/notebook.ipynb#ch0000021?line=25'>26</a>\u001b[0m         \u001b[39mprint\u001b[39m( [\n\u001b[1;32m---> <a href='vscode-notebook-cell:/d%3A/%210%20Acadamy/week%201/notebooks/notebook.ipynb#ch0000021?line=26'>27</a>\u001b[0m         userow[\u001b[39m\"\u001b[39;49m\u001b[39mMSISDN/Number\u001b[39;49m\u001b[39m\"\u001b[39;49m]\u001b[39m.\u001b[39;49miloc[\u001b[39m0\u001b[39;49m],\n\u001b[0;32m     <a href='vscode-notebook-cell:/d%3A/%210%20Acadamy/week%201/notebooks/notebook.ipynb#ch0000021?line=27'>28</a>\u001b[0m         \u001b[39mlen\u001b[39m(nwdf),\n\u001b[0;32m     <a href='vscode-notebook-cell:/d%3A/%210%20Acadamy/week%201/notebooks/notebook.ipynb#ch0000021?line=28'>29</a>\u001b[0m         nwdf[\u001b[39m\"\u001b[39m\u001b[39mDur. (ms)\u001b[39m\u001b[39m\"\u001b[39m]\u001b[39m.\u001b[39msum(),\n\u001b[0;32m     <a href='vscode-notebook-cell:/d%3A/%210%20Acadamy/week%201/notebooks/notebook.ipynb#ch0000021?line=29'>30</a>\u001b[0m         nwdf[\u001b[39m\"\u001b[39m\u001b[39mTotal UL (Bytes)\u001b[39m\u001b[39m\"\u001b[39m]\u001b[39m.\u001b[39msum(),\n\u001b[0;32m     <a href='vscode-notebook-cell:/d%3A/%210%20Acadamy/week%201/notebooks/notebook.ipynb#ch0000021?line=30'>31</a>\u001b[0m         nwdf[\u001b[39m\"\u001b[39m\u001b[39mTotal DL (Bytes)\u001b[39m\u001b[39m\"\u001b[39m]\u001b[39m.\u001b[39msum(),\n\u001b[0;32m     <a href='vscode-notebook-cell:/d%3A/%210%20Acadamy/week%201/notebooks/notebook.ipynb#ch0000021?line=31'>32</a>\u001b[0m         nwdf[\u001b[39m\"\u001b[39m\u001b[39mYoutube DL (Bytes)\u001b[39m\u001b[39m\"\u001b[39m]\u001b[39m.\u001b[39msum()\u001b[39m+\u001b[39mnwdf[\u001b[39m\"\u001b[39m\u001b[39mYoutube UL (Bytes)\u001b[39m\u001b[39m\"\u001b[39m]\u001b[39m.\u001b[39msum(),\n\u001b[0;32m     <a href='vscode-notebook-cell:/d%3A/%210%20Acadamy/week%201/notebooks/notebook.ipynb#ch0000021?line=32'>33</a>\u001b[0m         nwdf[\u001b[39m\"\u001b[39m\u001b[39mNetflix DL (Bytes)\u001b[39m\u001b[39m\"\u001b[39m]\u001b[39m.\u001b[39msum()\u001b[39m+\u001b[39mnwdf[\u001b[39m\"\u001b[39m\u001b[39mNetflix UL (Bytes)\u001b[39m\u001b[39m\"\u001b[39m]\u001b[39m.\u001b[39msum(),\n\u001b[0;32m     <a href='vscode-notebook-cell:/d%3A/%210%20Acadamy/week%201/notebooks/notebook.ipynb#ch0000021?line=33'>34</a>\u001b[0m         nwdf[\u001b[39m\"\u001b[39m\u001b[39mGaming DL (Bytes)\u001b[39m\u001b[39m\"\u001b[39m]\u001b[39m.\u001b[39msum()\u001b[39m+\u001b[39mnwdf[\u001b[39m\"\u001b[39m\u001b[39mGaming UL (Bytes)\u001b[39m\u001b[39m\"\u001b[39m]\u001b[39m.\u001b[39msum(),\n\u001b[0;32m     <a href='vscode-notebook-cell:/d%3A/%210%20Acadamy/week%201/notebooks/notebook.ipynb#ch0000021?line=34'>35</a>\u001b[0m         nwdf[\u001b[39m\"\u001b[39m\u001b[39mOther DL (Bytes)\u001b[39m\u001b[39m\"\u001b[39m]\u001b[39m.\u001b[39msum() \u001b[39m+\u001b[39m nwdf[\u001b[39m\"\u001b[39m\u001b[39mOther UL (Bytes)\u001b[39m\u001b[39m\"\u001b[39m]\u001b[39m.\u001b[39msum(),\n\u001b[0;32m     <a href='vscode-notebook-cell:/d%3A/%210%20Acadamy/week%201/notebooks/notebook.ipynb#ch0000021?line=35'>36</a>\u001b[0m         \n\u001b[0;32m     <a href='vscode-notebook-cell:/d%3A/%210%20Acadamy/week%201/notebooks/notebook.ipynb#ch0000021?line=36'>37</a>\u001b[0m         \n\u001b[0;32m     <a href='vscode-notebook-cell:/d%3A/%210%20Acadamy/week%201/notebooks/notebook.ipynb#ch0000021?line=37'>38</a>\u001b[0m     ])\n\u001b[0;32m     <a href='vscode-notebook-cell:/d%3A/%210%20Acadamy/week%201/notebooks/notebook.ipynb#ch0000021?line=39'>40</a>\u001b[0m         final_array\u001b[39m.\u001b[39mappend([\n\u001b[0;32m     <a href='vscode-notebook-cell:/d%3A/%210%20Acadamy/week%201/notebooks/notebook.ipynb#ch0000021?line=40'>41</a>\u001b[0m     userow[\u001b[39m\"\u001b[39m\u001b[39mMSISDN/Number\u001b[39m\u001b[39m\"\u001b[39m]\u001b[39m.\u001b[39miloc[\u001b[39m0\u001b[39m],\n\u001b[0;32m     <a href='vscode-notebook-cell:/d%3A/%210%20Acadamy/week%201/notebooks/notebook.ipynb#ch0000021?line=41'>42</a>\u001b[0m     \u001b[39mlen\u001b[39m(nwdf),\n\u001b[1;32m   (...)\u001b[0m\n\u001b[0;32m     <a href='vscode-notebook-cell:/d%3A/%210%20Acadamy/week%201/notebooks/notebook.ipynb#ch0000021?line=48'>49</a>\u001b[0m     nwdf[\u001b[39m\"\u001b[39m\u001b[39mOther DL (Bytes)\u001b[39m\u001b[39m\"\u001b[39m]\u001b[39m.\u001b[39msum() \u001b[39m+\u001b[39m nwdf[\u001b[39m\"\u001b[39m\u001b[39mOther UL (Bytes)\u001b[39m\u001b[39m\"\u001b[39m]\u001b[39m.\u001b[39msum(),\n\u001b[0;32m     <a href='vscode-notebook-cell:/d%3A/%210%20Acadamy/week%201/notebooks/notebook.ipynb#ch0000021?line=49'>50</a>\u001b[0m ])\n",
      "File \u001b[1;32mc:\\Users\\hp\\anaconda3\\envs\\week1\\lib\\site-packages\\pandas\\core\\indexing.py:967\u001b[0m, in \u001b[0;36m_LocationIndexer.__getitem__\u001b[1;34m(self, key)\u001b[0m\n\u001b[0;32m    <a href='file:///c%3A/Users/hp/anaconda3/envs/week1/lib/site-packages/pandas/core/indexing.py?line=963'>964</a>\u001b[0m axis \u001b[39m=\u001b[39m \u001b[39mself\u001b[39m\u001b[39m.\u001b[39maxis \u001b[39mor\u001b[39;00m \u001b[39m0\u001b[39m\n\u001b[0;32m    <a href='file:///c%3A/Users/hp/anaconda3/envs/week1/lib/site-packages/pandas/core/indexing.py?line=965'>966</a>\u001b[0m maybe_callable \u001b[39m=\u001b[39m com\u001b[39m.\u001b[39mapply_if_callable(key, \u001b[39mself\u001b[39m\u001b[39m.\u001b[39mobj)\n\u001b[1;32m--> <a href='file:///c%3A/Users/hp/anaconda3/envs/week1/lib/site-packages/pandas/core/indexing.py?line=966'>967</a>\u001b[0m \u001b[39mreturn\u001b[39;00m \u001b[39mself\u001b[39;49m\u001b[39m.\u001b[39;49m_getitem_axis(maybe_callable, axis\u001b[39m=\u001b[39;49maxis)\n",
      "File \u001b[1;32mc:\\Users\\hp\\anaconda3\\envs\\week1\\lib\\site-packages\\pandas\\core\\indexing.py:1520\u001b[0m, in \u001b[0;36m_iLocIndexer._getitem_axis\u001b[1;34m(self, key, axis)\u001b[0m\n\u001b[0;32m   <a href='file:///c%3A/Users/hp/anaconda3/envs/week1/lib/site-packages/pandas/core/indexing.py?line=1516'>1517</a>\u001b[0m     \u001b[39mraise\u001b[39;00m \u001b[39mTypeError\u001b[39;00m(\u001b[39m\"\u001b[39m\u001b[39mCannot index by location index with a non-integer key\u001b[39m\u001b[39m\"\u001b[39m)\n\u001b[0;32m   <a href='file:///c%3A/Users/hp/anaconda3/envs/week1/lib/site-packages/pandas/core/indexing.py?line=1518'>1519</a>\u001b[0m \u001b[39m# validate the location\u001b[39;00m\n\u001b[1;32m-> <a href='file:///c%3A/Users/hp/anaconda3/envs/week1/lib/site-packages/pandas/core/indexing.py?line=1519'>1520</a>\u001b[0m \u001b[39mself\u001b[39;49m\u001b[39m.\u001b[39;49m_validate_integer(key, axis)\n\u001b[0;32m   <a href='file:///c%3A/Users/hp/anaconda3/envs/week1/lib/site-packages/pandas/core/indexing.py?line=1521'>1522</a>\u001b[0m \u001b[39mreturn\u001b[39;00m \u001b[39mself\u001b[39m\u001b[39m.\u001b[39mobj\u001b[39m.\u001b[39m_ixs(key, axis\u001b[39m=\u001b[39maxis)\n",
      "File \u001b[1;32mc:\\Users\\hp\\anaconda3\\envs\\week1\\lib\\site-packages\\pandas\\core\\indexing.py:1452\u001b[0m, in \u001b[0;36m_iLocIndexer._validate_integer\u001b[1;34m(self, key, axis)\u001b[0m\n\u001b[0;32m   <a href='file:///c%3A/Users/hp/anaconda3/envs/week1/lib/site-packages/pandas/core/indexing.py?line=1449'>1450</a>\u001b[0m len_axis \u001b[39m=\u001b[39m \u001b[39mlen\u001b[39m(\u001b[39mself\u001b[39m\u001b[39m.\u001b[39mobj\u001b[39m.\u001b[39m_get_axis(axis))\n\u001b[0;32m   <a href='file:///c%3A/Users/hp/anaconda3/envs/week1/lib/site-packages/pandas/core/indexing.py?line=1450'>1451</a>\u001b[0m \u001b[39mif\u001b[39;00m key \u001b[39m>\u001b[39m\u001b[39m=\u001b[39m len_axis \u001b[39mor\u001b[39;00m key \u001b[39m<\u001b[39m \u001b[39m-\u001b[39mlen_axis:\n\u001b[1;32m-> <a href='file:///c%3A/Users/hp/anaconda3/envs/week1/lib/site-packages/pandas/core/indexing.py?line=1451'>1452</a>\u001b[0m     \u001b[39mraise\u001b[39;00m \u001b[39mIndexError\u001b[39;00m(\u001b[39m\"\u001b[39m\u001b[39msingle positional indexer is out-of-bounds\u001b[39m\u001b[39m\"\u001b[39m)\n",
      "\u001b[1;31mIndexError\u001b[0m: single positional indexer is out-of-bounds"
     ]
    }
   ],
   "source": [
    "\n",
    "\n",
    "usrdf = teledf[\"MSISDN/Number\"].unique()\n",
    "\n",
    "final_array=[]\n",
    "for usr in usrdf:\n",
    "    if usr != \"Missing\":\n",
    "        \n",
    "        userow=teledf.loc[teledf[\"MSISDN/Number\"] == usr]\n",
    "        \n",
    "        nwdf=userow[\n",
    "            [\n",
    "                \"MSISDN/Number\",\n",
    "                \"Bearer Id\",\n",
    "                \"Dur. (ms)\",\n",
    "                \"Total UL (Bytes)\",\n",
    "                \"Total DL (Bytes)\",\n",
    "                \"Youtube DL (Bytes)\",\n",
    "                \"Youtube UL (Bytes)\",\n",
    "                \"Netflix DL (Bytes)\",\n",
    "                \"Netflix UL (Bytes)\",\n",
    "                \"Gaming DL (Bytes)\",\n",
    "                \"Gaming UL (Bytes)\",\n",
    "                \"Other DL (Bytes)\",\n",
    "                \"Other UL (Bytes)\"\n",
    "            ]\n",
    "        ]\n",
    "        print( [\n",
    "        userow[\"MSISDN/Number\"].iloc[0],\n",
    "        len(nwdf),\n",
    "        nwdf[\"Dur. (ms)\"].sum(),\n",
    "        nwdf[\"Total UL (Bytes)\"].sum(),\n",
    "        nwdf[\"Total DL (Bytes)\"].sum(),\n",
    "        nwdf[\"Youtube DL (Bytes)\"].sum()+nwdf[\"Youtube UL (Bytes)\"].sum(),\n",
    "        nwdf[\"Netflix DL (Bytes)\"].sum()+nwdf[\"Netflix UL (Bytes)\"].sum(),\n",
    "        nwdf[\"Gaming DL (Bytes)\"].sum()+nwdf[\"Gaming UL (Bytes)\"].sum(),\n",
    "        nwdf[\"Other DL (Bytes)\"].sum() + nwdf[\"Other UL (Bytes)\"].sum(),\n",
    "        ])\n",
    "        \n",
    "        final_array.append([\n",
    "            userow[\"MSISDN/Number\"].iloc[0],\n",
    "            len(nwdf),\n",
    "            nwdf[\"Dur. (ms)\"].sum(),\n",
    "            nwdf[\"Total UL (Bytes)\"].sum(),\n",
    "            nwdf[\"Total DL (Bytes)\"].sum(),\n",
    "            nwdf[\"Youtube DL (Bytes)\"].sum()+nwdf[\"Youtube UL (Bytes)\"].sum(),\n",
    "            nwdf[\"Netflix DL (Bytes)\"].sum()+nwdf[\"Netflix UL (Bytes)\"].sum(),\n",
    "            nwdf[\"Gaming DL (Bytes)\"].sum()+nwdf[\"Gaming UL (Bytes)\"].sum(),\n",
    "            nwdf[\"Other DL (Bytes)\"].sum() + nwdf[\"Other UL (Bytes)\"].sum(),\n",
    "            ])\n",
    "        \n",
    "# Youtube DL (Bytes)\tYoutube UL (Bytes)\tNetflix DL (Bytes)\tNetflix UL (Bytes)\tGaming DL (Bytes)\tGaming UL (Bytes)\tOther DL (Bytes)\tOther UL (Bytes)\n",
    "\n",
    "\n",
    "\n"
   ]
  },
  {
   "cell_type": "code",
   "execution_count": null,
   "metadata": {},
   "outputs": [
    {
     "ename": "ValueError",
     "evalue": "Shape of passed values is (624, 5), indices imply (624, 9)",
     "output_type": "error",
     "traceback": [
      "\u001b[1;31m---------------------------------------------------------------------------\u001b[0m",
      "\u001b[1;31mValueError\u001b[0m                                Traceback (most recent call last)",
      "\u001b[1;32md:\\!0 Acadamy\\week 1\\notebooks\\notebook.ipynb Cell 23'\u001b[0m in \u001b[0;36m<cell line: 1>\u001b[1;34m()\u001b[0m\n\u001b[1;32m----> <a href='vscode-notebook-cell:/d%3A/%210%20Acadamy/week%201/notebooks/notebook.ipynb#ch0000022?line=0'>1</a>\u001b[0m aggregate_info\u001b[39m=\u001b[39mpd\u001b[39m.\u001b[39;49mDataFrame(np\u001b[39m.\u001b[39;49marray(final_array), columns\u001b[39m=\u001b[39;49m[\n\u001b[0;32m      <a href='vscode-notebook-cell:/d%3A/%210%20Acadamy/week%201/notebooks/notebook.ipynb#ch0000022?line=1'>2</a>\u001b[0m     \u001b[39m\"\u001b[39;49m\u001b[39mMSISDN/Number\u001b[39;49m\u001b[39m\"\u001b[39;49m,\n\u001b[0;32m      <a href='vscode-notebook-cell:/d%3A/%210%20Acadamy/week%201/notebooks/notebook.ipynb#ch0000022?line=2'>3</a>\u001b[0m     \u001b[39m\"\u001b[39;49m\u001b[39mBearer Id\u001b[39;49m\u001b[39m\"\u001b[39;49m,\n\u001b[0;32m      <a href='vscode-notebook-cell:/d%3A/%210%20Acadamy/week%201/notebooks/notebook.ipynb#ch0000022?line=3'>4</a>\u001b[0m     \u001b[39m\"\u001b[39;49m\u001b[39mDur. (ms)\u001b[39;49m\u001b[39m\"\u001b[39;49m,\n\u001b[0;32m      <a href='vscode-notebook-cell:/d%3A/%210%20Acadamy/week%201/notebooks/notebook.ipynb#ch0000022?line=4'>5</a>\u001b[0m     \u001b[39m\"\u001b[39;49m\u001b[39mTotal UL (Bytes)\u001b[39;49m\u001b[39m\"\u001b[39;49m,\n\u001b[0;32m      <a href='vscode-notebook-cell:/d%3A/%210%20Acadamy/week%201/notebooks/notebook.ipynb#ch0000022?line=5'>6</a>\u001b[0m     \u001b[39m\"\u001b[39;49m\u001b[39mTotal DL (Bytes)\u001b[39;49m\u001b[39m\"\u001b[39;49m,\n\u001b[0;32m      <a href='vscode-notebook-cell:/d%3A/%210%20Acadamy/week%201/notebooks/notebook.ipynb#ch0000022?line=6'>7</a>\u001b[0m     \u001b[39m\"\u001b[39;49m\u001b[39mYoutube (Bytes)\u001b[39;49m\u001b[39m\"\u001b[39;49m,\n\u001b[0;32m      <a href='vscode-notebook-cell:/d%3A/%210%20Acadamy/week%201/notebooks/notebook.ipynb#ch0000022?line=7'>8</a>\u001b[0m \u001b[39m\"\u001b[39;49m\u001b[39mNetflix (Bytes)\u001b[39;49m\u001b[39m\"\u001b[39;49m,\n\u001b[0;32m      <a href='vscode-notebook-cell:/d%3A/%210%20Acadamy/week%201/notebooks/notebook.ipynb#ch0000022?line=8'>9</a>\u001b[0m \u001b[39m\"\u001b[39;49m\u001b[39mGaming (Bytes)\u001b[39;49m\u001b[39m\"\u001b[39;49m,\n\u001b[0;32m     <a href='vscode-notebook-cell:/d%3A/%210%20Acadamy/week%201/notebooks/notebook.ipynb#ch0000022?line=9'>10</a>\u001b[0m \u001b[39m\"\u001b[39;49m\u001b[39mOther (Bytes)\u001b[39;49m\u001b[39m\"\u001b[39;49m,\n\u001b[0;32m     <a href='vscode-notebook-cell:/d%3A/%210%20Acadamy/week%201/notebooks/notebook.ipynb#ch0000022?line=10'>11</a>\u001b[0m ])\n\u001b[0;32m     <a href='vscode-notebook-cell:/d%3A/%210%20Acadamy/week%201/notebooks/notebook.ipynb#ch0000022?line=12'>13</a>\u001b[0m aggregate_info\u001b[39m.\u001b[39mhead()\n",
      "File \u001b[1;32mc:\\Users\\hp\\anaconda3\\envs\\week1\\lib\\site-packages\\pandas\\core\\frame.py:694\u001b[0m, in \u001b[0;36mDataFrame.__init__\u001b[1;34m(self, data, index, columns, dtype, copy)\u001b[0m\n\u001b[0;32m    <a href='file:///c%3A/Users/hp/anaconda3/envs/week1/lib/site-packages/pandas/core/frame.py?line=683'>684</a>\u001b[0m         mgr \u001b[39m=\u001b[39m dict_to_mgr(\n\u001b[0;32m    <a href='file:///c%3A/Users/hp/anaconda3/envs/week1/lib/site-packages/pandas/core/frame.py?line=684'>685</a>\u001b[0m             \u001b[39m# error: Item \"ndarray\" of \"Union[ndarray, Series, Index]\" has no\u001b[39;00m\n\u001b[0;32m    <a href='file:///c%3A/Users/hp/anaconda3/envs/week1/lib/site-packages/pandas/core/frame.py?line=685'>686</a>\u001b[0m             \u001b[39m# attribute \"name\"\u001b[39;00m\n\u001b[1;32m   (...)\u001b[0m\n\u001b[0;32m    <a href='file:///c%3A/Users/hp/anaconda3/envs/week1/lib/site-packages/pandas/core/frame.py?line=690'>691</a>\u001b[0m             typ\u001b[39m=\u001b[39mmanager,\n\u001b[0;32m    <a href='file:///c%3A/Users/hp/anaconda3/envs/week1/lib/site-packages/pandas/core/frame.py?line=691'>692</a>\u001b[0m         )\n\u001b[0;32m    <a href='file:///c%3A/Users/hp/anaconda3/envs/week1/lib/site-packages/pandas/core/frame.py?line=692'>693</a>\u001b[0m     \u001b[39melse\u001b[39;00m:\n\u001b[1;32m--> <a href='file:///c%3A/Users/hp/anaconda3/envs/week1/lib/site-packages/pandas/core/frame.py?line=693'>694</a>\u001b[0m         mgr \u001b[39m=\u001b[39m ndarray_to_mgr(\n\u001b[0;32m    <a href='file:///c%3A/Users/hp/anaconda3/envs/week1/lib/site-packages/pandas/core/frame.py?line=694'>695</a>\u001b[0m             data,\n\u001b[0;32m    <a href='file:///c%3A/Users/hp/anaconda3/envs/week1/lib/site-packages/pandas/core/frame.py?line=695'>696</a>\u001b[0m             index,\n\u001b[0;32m    <a href='file:///c%3A/Users/hp/anaconda3/envs/week1/lib/site-packages/pandas/core/frame.py?line=696'>697</a>\u001b[0m             columns,\n\u001b[0;32m    <a href='file:///c%3A/Users/hp/anaconda3/envs/week1/lib/site-packages/pandas/core/frame.py?line=697'>698</a>\u001b[0m             dtype\u001b[39m=\u001b[39;49mdtype,\n\u001b[0;32m    <a href='file:///c%3A/Users/hp/anaconda3/envs/week1/lib/site-packages/pandas/core/frame.py?line=698'>699</a>\u001b[0m             copy\u001b[39m=\u001b[39;49mcopy,\n\u001b[0;32m    <a href='file:///c%3A/Users/hp/anaconda3/envs/week1/lib/site-packages/pandas/core/frame.py?line=699'>700</a>\u001b[0m             typ\u001b[39m=\u001b[39;49mmanager,\n\u001b[0;32m    <a href='file:///c%3A/Users/hp/anaconda3/envs/week1/lib/site-packages/pandas/core/frame.py?line=700'>701</a>\u001b[0m         )\n\u001b[0;32m    <a href='file:///c%3A/Users/hp/anaconda3/envs/week1/lib/site-packages/pandas/core/frame.py?line=702'>703</a>\u001b[0m \u001b[39m# For data is list-like, or Iterable (will consume into list)\u001b[39;00m\n\u001b[0;32m    <a href='file:///c%3A/Users/hp/anaconda3/envs/week1/lib/site-packages/pandas/core/frame.py?line=703'>704</a>\u001b[0m \u001b[39melif\u001b[39;00m is_list_like(data):\n",
      "File \u001b[1;32mc:\\Users\\hp\\anaconda3\\envs\\week1\\lib\\site-packages\\pandas\\core\\internals\\construction.py:351\u001b[0m, in \u001b[0;36mndarray_to_mgr\u001b[1;34m(values, index, columns, dtype, copy, typ)\u001b[0m\n\u001b[0;32m    <a href='file:///c%3A/Users/hp/anaconda3/envs/week1/lib/site-packages/pandas/core/internals/construction.py?line=345'>346</a>\u001b[0m \u001b[39m# _prep_ndarray ensures that values.ndim == 2 at this point\u001b[39;00m\n\u001b[0;32m    <a href='file:///c%3A/Users/hp/anaconda3/envs/week1/lib/site-packages/pandas/core/internals/construction.py?line=346'>347</a>\u001b[0m index, columns \u001b[39m=\u001b[39m _get_axes(\n\u001b[0;32m    <a href='file:///c%3A/Users/hp/anaconda3/envs/week1/lib/site-packages/pandas/core/internals/construction.py?line=347'>348</a>\u001b[0m     values\u001b[39m.\u001b[39mshape[\u001b[39m0\u001b[39m], values\u001b[39m.\u001b[39mshape[\u001b[39m1\u001b[39m], index\u001b[39m=\u001b[39mindex, columns\u001b[39m=\u001b[39mcolumns\n\u001b[0;32m    <a href='file:///c%3A/Users/hp/anaconda3/envs/week1/lib/site-packages/pandas/core/internals/construction.py?line=348'>349</a>\u001b[0m )\n\u001b[1;32m--> <a href='file:///c%3A/Users/hp/anaconda3/envs/week1/lib/site-packages/pandas/core/internals/construction.py?line=350'>351</a>\u001b[0m _check_values_indices_shape_match(values, index, columns)\n\u001b[0;32m    <a href='file:///c%3A/Users/hp/anaconda3/envs/week1/lib/site-packages/pandas/core/internals/construction.py?line=352'>353</a>\u001b[0m \u001b[39mif\u001b[39;00m typ \u001b[39m==\u001b[39m \u001b[39m\"\u001b[39m\u001b[39marray\u001b[39m\u001b[39m\"\u001b[39m:\n\u001b[0;32m    <a href='file:///c%3A/Users/hp/anaconda3/envs/week1/lib/site-packages/pandas/core/internals/construction.py?line=354'>355</a>\u001b[0m     \u001b[39mif\u001b[39;00m \u001b[39missubclass\u001b[39m(values\u001b[39m.\u001b[39mdtype\u001b[39m.\u001b[39mtype, \u001b[39mstr\u001b[39m):\n",
      "File \u001b[1;32mc:\\Users\\hp\\anaconda3\\envs\\week1\\lib\\site-packages\\pandas\\core\\internals\\construction.py:422\u001b[0m, in \u001b[0;36m_check_values_indices_shape_match\u001b[1;34m(values, index, columns)\u001b[0m\n\u001b[0;32m    <a href='file:///c%3A/Users/hp/anaconda3/envs/week1/lib/site-packages/pandas/core/internals/construction.py?line=419'>420</a>\u001b[0m passed \u001b[39m=\u001b[39m values\u001b[39m.\u001b[39mshape\n\u001b[0;32m    <a href='file:///c%3A/Users/hp/anaconda3/envs/week1/lib/site-packages/pandas/core/internals/construction.py?line=420'>421</a>\u001b[0m implied \u001b[39m=\u001b[39m (\u001b[39mlen\u001b[39m(index), \u001b[39mlen\u001b[39m(columns))\n\u001b[1;32m--> <a href='file:///c%3A/Users/hp/anaconda3/envs/week1/lib/site-packages/pandas/core/internals/construction.py?line=421'>422</a>\u001b[0m \u001b[39mraise\u001b[39;00m \u001b[39mValueError\u001b[39;00m(\u001b[39mf\u001b[39m\u001b[39m\"\u001b[39m\u001b[39mShape of passed values is \u001b[39m\u001b[39m{\u001b[39;00mpassed\u001b[39m}\u001b[39;00m\u001b[39m, indices imply \u001b[39m\u001b[39m{\u001b[39;00mimplied\u001b[39m}\u001b[39;00m\u001b[39m\"\u001b[39m)\n",
      "\u001b[1;31mValueError\u001b[0m: Shape of passed values is (624, 5), indices imply (624, 9)"
     ]
    }
   ],
   "source": [
    "aggregate_info=pd.DataFrame(np.array(final_array), columns=[\n",
    "    \"MSISDN/Number\",\n",
    "    \"Bearer Id\",\n",
    "    \"Dur. (ms)\",\n",
    "    \"Total UL (Bytes)\",\n",
    "    \"Total DL (Bytes)\",\n",
    "    \"Youtube Total (Bytes)\",\n",
    "\"Netflix Total (Bytes)\",\n",
    "\"Gaming Total (Bytes)\",\n",
    "\"Other Total (Bytes)\",\n",
    "])\n",
    "\n",
    "aggregate_info.head()\n",
    "# print(my_array[:10])\n"
   ]
  },
  {
   "cell_type": "code",
   "execution_count": null,
   "metadata": {},
   "outputs": [],
   "source": []
  }
 ],
 "metadata": {
  "interpreter": {
   "hash": "af3b5149a5eded4321c57d7197d471db046016918ba9e1579f3b1a0b4f8e1211"
  },
  "kernelspec": {
   "display_name": "Python 3.9.12 ('week1')",
   "language": "python",
   "name": "python3"
  },
  "language_info": {
   "codemirror_mode": {
    "name": "ipython",
    "version": 3
   },
   "file_extension": ".py",
   "mimetype": "text/x-python",
   "name": "python",
   "nbconvert_exporter": "python",
   "pygments_lexer": "ipython3",
   "version": "3.9.12"
  },
  "orig_nbformat": 4
 },
 "nbformat": 4,
 "nbformat_minor": 2
}
