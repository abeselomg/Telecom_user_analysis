{
 "cells": [
  {
   "cell_type": "markdown",
   "metadata": {},
   "source": [
    "# User Analytics in the Telecommunication Industry"
   ]
  },
  {
   "cell_type": "code",
   "execution_count": 1,
   "metadata": {},
   "outputs": [],
   "source": [
    "#Importing required packages.\n",
    "import pandas as pd\n",
    "import seaborn as sns\n",
    "import matplotlib.pyplot as plt\n",
    "import os\n",
    "%matplotlib inline"
   ]
  },
  {
   "cell_type": "code",
   "execution_count": 51,
   "metadata": {},
   "outputs": [],
   "source": [
    "teledf=pd.read_excel(\"../data/Week1_challenge_data_source.xlsx\")"
   ]
  },
  {
   "cell_type": "code",
   "execution_count": 3,
   "metadata": {},
   "outputs": [
    {
     "data": {
      "text/plain": [
       "(150001, 55)"
      ]
     },
     "execution_count": 3,
     "metadata": {},
     "output_type": "execute_result"
    }
   ],
   "source": [
    "teledf.shape"
   ]
  },
  {
   "cell_type": "code",
   "execution_count": 4,
   "metadata": {},
   "outputs": [
    {
     "name": "stdout",
     "output_type": "stream",
     "text": [
      "<class 'pandas.core.frame.DataFrame'>\n",
      "RangeIndex: 150001 entries, 0 to 150000\n",
      "Data columns (total 55 columns):\n",
      " #   Column                                    Non-Null Count   Dtype         \n",
      "---  ------                                    --------------   -----         \n",
      " 0   Bearer Id                                 149010 non-null  float64       \n",
      " 1   Start                                     150000 non-null  datetime64[ns]\n",
      " 2   Start ms                                  150000 non-null  float64       \n",
      " 3   End                                       150000 non-null  datetime64[ns]\n",
      " 4   End ms                                    150000 non-null  float64       \n",
      " 5   Dur. (ms)                                 150000 non-null  float64       \n",
      " 6   IMSI                                      149431 non-null  float64       \n",
      " 7   MSISDN/Number                             148935 non-null  float64       \n",
      " 8   IMEI                                      149429 non-null  float64       \n",
      " 9   Last Location Name                        148848 non-null  object        \n",
      " 10  Avg RTT DL (ms)                           122172 non-null  float64       \n",
      " 11  Avg RTT UL (ms)                           122189 non-null  float64       \n",
      " 12  Avg Bearer TP DL (kbps)                   150000 non-null  float64       \n",
      " 13  Avg Bearer TP UL (kbps)                   150000 non-null  float64       \n",
      " 14  TCP DL Retrans. Vol (Bytes)               61855 non-null   float64       \n",
      " 15  TCP UL Retrans. Vol (Bytes)               53352 non-null   float64       \n",
      " 16  DL TP < 50 Kbps (%)                       149247 non-null  float64       \n",
      " 17  50 Kbps < DL TP < 250 Kbps (%)            149247 non-null  float64       \n",
      " 18  250 Kbps < DL TP < 1 Mbps (%)             149247 non-null  float64       \n",
      " 19  DL TP > 1 Mbps (%)                        149247 non-null  float64       \n",
      " 20  UL TP < 10 Kbps (%)                       149209 non-null  float64       \n",
      " 21  10 Kbps < UL TP < 50 Kbps (%)             149209 non-null  float64       \n",
      " 22  50 Kbps < UL TP < 300 Kbps (%)            149209 non-null  float64       \n",
      " 23  UL TP > 300 Kbps (%)                      149209 non-null  float64       \n",
      " 24  HTTP DL (Bytes)                           68527 non-null   float64       \n",
      " 25  HTTP UL (Bytes)                           68191 non-null   float64       \n",
      " 26  Activity Duration DL (ms)                 150000 non-null  float64       \n",
      " 27  Activity Duration UL (ms)                 150000 non-null  float64       \n",
      " 28  Dur. (ms).1                               150000 non-null  float64       \n",
      " 29  Handset Manufacturer                      149429 non-null  object        \n",
      " 30  Handset Type                              149429 non-null  object        \n",
      " 31  Nb of sec with 125000B < Vol DL           52463 non-null   float64       \n",
      " 32  Nb of sec with 1250B < Vol UL < 6250B     57107 non-null   float64       \n",
      " 33  Nb of sec with 31250B < Vol DL < 125000B  56415 non-null   float64       \n",
      " 34  Nb of sec with 37500B < Vol UL            19747 non-null   float64       \n",
      " 35  Nb of sec with 6250B < Vol DL < 31250B    61684 non-null   float64       \n",
      " 36  Nb of sec with 6250B < Vol UL < 37500B    38158 non-null   float64       \n",
      " 37  Nb of sec with Vol DL < 6250B             149246 non-null  float64       \n",
      " 38  Nb of sec with Vol UL < 1250B             149208 non-null  float64       \n",
      " 39  Social Media DL (Bytes)                   150001 non-null  float64       \n",
      " 40  Social Media UL (Bytes)                   150001 non-null  float64       \n",
      " 41  Google DL (Bytes)                         150001 non-null  float64       \n",
      " 42  Google UL (Bytes)                         150001 non-null  float64       \n",
      " 43  Email DL (Bytes)                          150001 non-null  float64       \n",
      " 44  Email UL (Bytes)                          150001 non-null  float64       \n",
      " 45  Youtube DL (Bytes)                        150001 non-null  float64       \n",
      " 46  Youtube UL (Bytes)                        150001 non-null  float64       \n",
      " 47  Netflix DL (Bytes)                        150001 non-null  float64       \n",
      " 48  Netflix UL (Bytes)                        150001 non-null  float64       \n",
      " 49  Gaming DL (Bytes)                         150001 non-null  float64       \n",
      " 50  Gaming UL (Bytes)                         150001 non-null  float64       \n",
      " 51  Other DL (Bytes)                          150001 non-null  float64       \n",
      " 52  Other UL (Bytes)                          150001 non-null  float64       \n",
      " 53  Total UL (Bytes)                          150000 non-null  float64       \n",
      " 54  Total DL (Bytes)                          150000 non-null  float64       \n",
      "dtypes: datetime64[ns](2), float64(50), object(3)\n",
      "memory usage: 62.9+ MB\n"
     ]
    }
   ],
   "source": [
    "teledf.info()"
   ]
  },
  {
   "cell_type": "code",
   "execution_count": 11,
   "metadata": {},
   "outputs": [
    {
     "data": {
      "text/plain": [
       "Nb of sec with 1250B < Vol UL < 6250B     92894\n",
       "Nb of sec with 6250B < Vol DL < 31250B    88317\n",
       "TCP DL Retrans. Vol (Bytes)               88146\n",
       "HTTP UL (Bytes)                           81810\n",
       "HTTP DL (Bytes)                           81474\n",
       "Avg RTT DL (ms)                           27829\n",
       "Avg RTT UL (ms)                           27812\n",
       "Last Location Name                         1153\n",
       "MSISDN/Number                              1066\n",
       "Bearer Id                                   991\n",
       "Nb of sec with Vol UL < 1250B               793\n",
       "10 Kbps < UL TP < 50 Kbps (%)               792\n",
       "UL TP > 300 Kbps (%)                        792\n",
       "50 Kbps < UL TP < 300 Kbps (%)              792\n",
       "UL TP < 10 Kbps (%)                         792\n",
       "Nb of sec with Vol DL < 6250B               755\n",
       "DL TP < 50 Kbps (%)                         754\n",
       "50 Kbps < DL TP < 250 Kbps (%)              754\n",
       "250 Kbps < DL TP < 1 Mbps (%)               754\n",
       "DL TP > 1 Mbps (%)                          754\n",
       "Handset Type                                572\n",
       "IMEI                                        572\n",
       "Handset Manufacturer                        572\n",
       "IMSI                                        570\n",
       "Dur. (ms).1                                   1\n",
       "Total UL (Bytes)                              1\n",
       "Activity Duration DL (ms)                     1\n",
       "Activity Duration UL (ms)                     1\n",
       "End ms                                        1\n",
       "Start ms                                      1\n",
       "Start                                         1\n",
       "End                                           1\n",
       "Total DL (Bytes)                              1\n",
       "Dur. (ms)                                     1\n",
       "Avg Bearer TP UL (kbps)                       1\n",
       "Avg Bearer TP DL (kbps)                       1\n",
       "Netflix DL (Bytes)                            0\n",
       "Other UL (Bytes)                              0\n",
       "Other DL (Bytes)                              0\n",
       "Gaming UL (Bytes)                             0\n",
       "Gaming DL (Bytes)                             0\n",
       "Netflix UL (Bytes)                            0\n",
       "Youtube UL (Bytes)                            0\n",
       "Social Media DL (Bytes)                       0\n",
       "Youtube DL (Bytes)                            0\n",
       "Email UL (Bytes)                              0\n",
       "Google UL (Bytes)                             0\n",
       "Google DL (Bytes)                             0\n",
       "Social Media UL (Bytes)                       0\n",
       "Email DL (Bytes)                              0\n",
       "dtype: int64"
      ]
     },
     "execution_count": 11,
     "metadata": {},
     "output_type": "execute_result"
    }
   ],
   "source": [
    "teledf.isnull().sum().sort_values(ascending=False)"
   ]
  },
  {
   "cell_type": "code",
   "execution_count": 12,
   "metadata": {},
   "outputs": [],
   "source": [
    "dropable_columns=[\n",
    "\"Nb of sec with 37500B < Vol UL\",\n",
    "\"Nb of sec with 6250B < Vol UL < 37500B\",\n",
    "\"Nb of sec with 125000B < Vol DL\" ,\n",
    "\"TCP UL Retrans. Vol (Bytes)\"\n",
    "\"Nb of sec with 31250B < Vol DL < 125000B\",\n",
    "\"Nb of sec with 1250B < Vol UL < 6250B\",\n",
    "\"Nb of sec with 6250B < Vol DL < 31250B\",\n",
    "\"TCP DL Retrans. Vol (Bytes)\",\n",
    "\"HTTP UL (Bytes)\",\n",
    "\"HTTP DL (Bytes)\"\n",
    "]\n",
    "for el in dropable_columns:\n",
    "    teledf.drop([el], axis=1, inplace=True)\n"
   ]
  },
  {
   "cell_type": "markdown",
   "metadata": {},
   "source": [
    "Data Exploration"
   ]
  },
  {
   "cell_type": "code",
   "execution_count": 55,
   "metadata": {},
   "outputs": [
    {
     "data": {
      "text/plain": [
       "Huawei B528S-23A                19752\n",
       "Apple iPhone 6S (A1688)          9419\n",
       "Apple iPhone 6 (A1586)           9023\n",
       "Apple iPhone 7 (A1778)           6326\n",
       "Apple iPhone Se (A1723)          5187\n",
       "Apple iPhone 8 (A1905)           4993\n",
       "Apple iPhone Xr (A2105)          4568\n",
       "Samsung Galaxy S8 (Sm-G950F)     4520\n",
       "Apple iPhone X (A1901)           3813\n",
       "Samsung Galaxy A5 Sm-A520F       3724\n",
       "Name: Handset Type, dtype: int64"
      ]
     },
     "execution_count": 55,
     "metadata": {},
     "output_type": "execute_result"
    }
   ],
   "source": [
    "#number of handset types in the dataframe\n",
    "teledf[\"Handset Type\"].replace({\"\":None}, inplace=True)\n",
    "handsetdf=teledf[\"Handset Type\"].value_counts().nlargest(10)\n",
    "handsetdf"
   ]
  },
  {
   "cell_type": "code",
   "execution_count": 56,
   "metadata": {},
   "outputs": [
    {
     "data": {
      "text/plain": [
       "<AxesSubplot:>"
      ]
     },
     "execution_count": 56,
     "metadata": {},
     "output_type": "execute_result"
    },
    {
     "data": {
      "image/png": "[encoded data removed]",
      "text/plain": [
       "<Figure size 432x288 with 1 Axes>"
      ]
     },
     "metadata": {
      "needs_background": "light"
     },
     "output_type": "display_data"
    }
   ],
   "source": [
    "\n",
    "#number of handset types in the dataframe \n",
    "handsetdf.plot(kind=\"bar\")\n"
   ]
  },
  {
   "cell_type": "code",
   "execution_count": 62,
   "metadata": {},
   "outputs": [
    {
     "data": {
      "text/plain": [
       "Apple                                   59565\n",
       "Samsung                                 40839\n",
       "Huawei                                  34423\n",
       "Sony Mobile Communications Ab             980\n",
       "Wiko Global Sasu                          747\n",
       "Xiaomi Communications Co Ltd              397\n",
       "Oneplus Technology (Shenzhen) Co Ltd      342\n",
       "Asustek                                   285\n",
       "Lenovo                                    254\n",
       "Tcl Communication Ltd                     220\n",
       "Name: Handset Manufacturer, dtype: int64"
      ]
     },
     "execution_count": 62,
     "metadata": {},
     "output_type": "execute_result"
    }
   ],
   "source": [
    "teledf[\"Handset Manufacturer\"].value_counts().nlargest(10)"
   ]
  },
  {
   "cell_type": "code",
   "execution_count": 66,
   "metadata": {},
   "outputs": [],
   "source": [
    "teledf[\"Handset Manufacturer\"].replace({\"undefined\":\"NaN\"}, inplace=True)\n",
    "teledf[\"Handset Manufacturer\"].dropna(inplace=True)\n",
    "clean_headset_count=teledf[\"Handset Manufacturer\"].value_counts().nlargest(10)"
   ]
  },
  {
   "cell_type": "code",
   "execution_count": 67,
   "metadata": {},
   "outputs": [
    {
     "data": {
      "text/plain": [
       "<AxesSubplot:>"
      ]
     },
     "execution_count": 67,
     "metadata": {},
     "output_type": "execute_result"
    },
    {
     "data": {
      "image/png": "[encoded data removed]",
      "text/plain": [
       "<Figure size 432x288 with 1 Axes>"
      ]
     },
     "metadata": {
      "needs_background": "light"
     },
     "output_type": "display_data"
    }
   ],
   "source": [
    "clean_headset_count.plot(kind=\"bar\")"
   ]
  },
  {
   "cell_type": "code",
   "execution_count": null,
   "metadata": {},
   "outputs": [],
   "source": []
  }
 ],
 "metadata": {
  "interpreter": {
   "hash": "af3b5149a5eded4321c57d7197d471db046016918ba9e1579f3b1a0b4f8e1211"
  },
  "kernelspec": {
   "display_name": "Python 3.9.12 ('week1')",
   "language": "python",
   "name": "python3"
  },
  "language_info": {
   "codemirror_mode": {
    "name": "ipython",
    "version": 3
   },
   "file_extension": ".py",
   "mimetype": "text/x-python",
   "name": "python",
   "nbconvert_exporter": "python",
   "pygments_lexer": "ipython3",
   "version": "3.9.12"
  },
  "orig_nbformat": 4
 },
 "nbformat": 4,
 "nbformat_minor": 2
}
